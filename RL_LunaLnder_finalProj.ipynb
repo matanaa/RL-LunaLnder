{
 "cells": [
  {
   "cell_type": "markdown",
   "metadata": {},
   "source": []
  },
  {
   "cell_type": "markdown",
   "metadata": {},
   "source": [
    "Based on the following links to create this notebook:\n",
    "\n",
    "https://colab.research.google.com/drive/18LdlDDT87eb8cCTHZsXyS9ksQPzL3i6H\n",
    "\n",
    "https://colab.research.google.com/drive/1tug_bpg8RwrFOI8C6Ed-zo0OgD3yfnWy#scrollTo=bhsj7BTPHepg\n",
    "\n",
    "https://colab.research.google.com/drive/1tug_bpg8RwrFOI8C6Ed-zo0OgD3yfnWy\n",
    "\n",
    "\n",
    "To run Gym, you have to install prerequisites like xvbf,opengl & other python-dev packages using the following codes."
   ]
  },
  {
   "cell_type": "markdown",
   "metadata": {},
   "source": [
    "https://pytorch.org/tutorials/intermediate/reinforcement_q_learning.html"
   ]
  },
  {
   "cell_type": "markdown",
   "metadata": {
    "pycharm": {
     "name": "#%%\n"
    }
   },
   "source": [
    "!pip install gym  torch\n",
    "!apt-get install python-opengl ffmpeg -y \n",
    "!apt install xvfb -y \n",
    "!pip install pyvirtualdisplay  \n",
    "!pip install piglet \n",
    "!pip install gym[box2d] \n",
    "!pip install tensorflow \n"
   ]
  },
  {
   "cell_type": "code",
   "execution_count": 1,
   "metadata": {
    "pycharm": {
     "name": "#%%\n"
    }
   },
   "outputs": [
    {
     "data": {
      "text/plain": [
       "<pyvirtualdisplay.display.Display at 0x7ff0441e1278>"
      ]
     },
     "execution_count": 1,
     "metadata": {},
     "output_type": "execute_result"
    }
   ],
   "source": [
    "from pyvirtualdisplay import Display\n",
    "display = Display(visible=0, size=(1400, 900))\n",
    "display.start()\n"
   ]
  },
  {
   "cell_type": "code",
   "execution_count": 2,
   "metadata": {
    "pycharm": {
     "name": "#%%\n"
    }
   },
   "outputs": [],
   "source": [
    "# This code creates a virtual display to draw game images on. \n",
    "# If you are running locally, just ignore it\n",
    "import os\n",
    "if type(os.environ.get(\"DISPLAY\")) is not str or len(os.environ.get(\"DISPLAY\"))==0:\n",
    "    !bash ../xvfb start\n",
    "    %env DISPLAY=:1"
   ]
  },
  {
   "cell_type": "code",
   "execution_count": 3,
   "metadata": {
    "pycharm": {
     "name": "#%%\n"
    }
   },
   "outputs": [],
   "source": [
    "import gym\n",
    "from gym import logger as gymlogger\n",
    "from gym.wrappers import Monitor\n",
    "gymlogger.set_level(40) # error only\n",
    "# import tensorflow as tf\n",
    "import numpy as np\n",
    "import random\n",
    "import matplotlib\n",
    "import matplotlib.pyplot as plt\n",
    "%matplotlib inline\n",
    "import math\n",
    "import glob\n",
    "import io\n",
    "import base64\n",
    "from IPython.display import HTML\n",
    "\n",
    "from IPython import display as ipythondisplay\n",
    "from collections import namedtuple\n",
    "from itertools import count"
   ]
  },
  {
   "cell_type": "code",
   "execution_count": 4,
   "metadata": {
    "pycharm": {
     "name": "#%%\n"
    }
   },
   "outputs": [],
   "source": [
    "\"\"\"\n",
    "Utility functions to enable video recording of gym environment and displaying it\n",
    "To enable video, just do \"env = wrap_env(env)\"\"\n",
    "\"\"\"\n",
    "\n",
    "def show_video():\n",
    "  mp4list = glob.glob('video/*.mp4')\n",
    "  if len(mp4list) > 0:\n",
    "    mp4 = mp4list[0]\n",
    "    video = io.open(mp4, 'r+b').read()\n",
    "    encoded = base64.b64encode(video)\n",
    "    ipythondisplay.display(HTML(data='''<video alt=\"test\" autoplay \n",
    "                loop controls style=\"height: 400px;\">\n",
    "                <source src=\"data:video/mp4;base64,{0}\" type=\"video/mp4\" />\n",
    "             </video>'''.format(encoded.decode('ascii'))))\n",
    "  else: \n",
    "    print(\"Could not find video\")\n",
    "    \n",
    "\n",
    "def wrap_env(env):\n",
    "  env = Monitor(env, './video', force=True)\n",
    "  return env\n",
    "\n",
    "def make_noise():\n",
    "    mu, sigma = 0, 0.05 # mean and standard deviation\n",
    "    return np.random.normal(mu, sigma, 1)[0]\n",
    "\n",
    "def plot(frame_idx, rewards, losses):\n",
    "#     clear_output(True)\n",
    "    plt.figure(figsize=(20,5))\n",
    "    plt.subplot(131)\n",
    "    plt.title('frame %s. reward: %s' % (frame_idx, np.mean(rewards[-10:])))\n",
    "    plt.plot(rewards)\n",
    "    plt.subplot(132)\n",
    "    plt.title('loss')\n",
    "    plt.plot(losses)\n",
    "    plt.show()\n"
   ]
  },
  {
   "cell_type": "markdown",
   "metadata": {},
   "source": [
    "# My Code"
   ]
  },
  {
   "cell_type": "code",
   "execution_count": 5,
   "metadata": {
    "pycharm": {
     "name": "#%%\n"
    }
   },
   "outputs": [],
   "source": [
    "import torch\n",
    "import numpy as np\n",
    "import torch.nn as nn\n",
    "import torch.nn.functional as F\n",
    "import torch.optim as optim\n",
    "import pickle\n",
    "import os"
   ]
  },
  {
   "cell_type": "code",
   "execution_count": 6,
   "metadata": {
    "pycharm": {
     "name": "#%%\n"
    }
   },
   "outputs": [],
   "source": [
    "class defaultActions:\n",
    "    def __init__(self):\n",
    "\n",
    "        self.main = [[1    , \"Main strong\"],\n",
    "                     [0.51 ,\"Main slow\"],\n",
    "#                      [0.75 , \"Main meduim\"],\n",
    "                     [0 , \"Main off\"]\n",
    "                    ]\n",
    "        self.left_right = [\n",
    "                        [0, \"Left Right off\"],\n",
    "#                         [-0.5 , \"Left slow\"],\n",
    "#                         [-0.75  , \"Left meduim\"],\n",
    "                        [-1 , \"Left strong\"],\n",
    "                        \n",
    "#                         [0.5 , \"Right slow\"],\n",
    "#                         [0.75  , \"Right meduim\"],\n",
    "                        [1 , \"Right strong\"],\n",
    "                        ]\n",
    "        self.all_actions = {}\n",
    "        i = 0  \n",
    "        for main_eng in self.main:\n",
    "            for sec_eng in self.left_right:\n",
    "#                 print (f\"a{i},act:[{main_eng[0]},{sec_eng[0]},{main_eng[1]} {sec_eng[1]}]\")\n",
    "                self.all_actions[i] = [[main_eng[0],sec_eng[0]] , f\"{main_eng[1]}, {sec_eng[1]}\"]\n",
    "                i+=1\n",
    "        \n",
    "    def get_full_action(self,id):\n",
    "        return self.all_actions[id]\n",
    "\n",
    "    def get_action(self,id,add_noise=False):\n",
    "        if add_noise :\n",
    "            return [self.all_actions[id][0][0]+make_noise(), self.all_actions[id][0][1]+make_noise()]\n",
    "        else:\n",
    "            return self.all_actions[id][0]\n",
    "\n",
    "    def get_description(self,id):\n",
    "        return self.all_actions[id][1]\n",
    "    def get_action_count(self):\n",
    "        return len(self.all_actions)\n",
    "actions = defaultActions()\n"
   ]
  },
  {
   "cell_type": "code",
   "execution_count": 7,
   "metadata": {
    "pycharm": {
     "name": "#%%\n"
    }
   },
   "outputs": [],
   "source": [
    "class model(nn.Module):\n",
    "    def __init__(self, layers, name=\"\"):\n",
    "        super(model, self).__init__()\n",
    "        self.name = \"\"\n",
    "        self.layers = layers\n",
    "        self.features = nn.Sequential(*layers)\n",
    "\n",
    "\n",
    "    def name(self):\n",
    "        return self.name\n",
    "\n",
    "    def model_summery(self):\n",
    "        return self.features.summary()\n",
    "\n",
    "    def forward(self, x):\n",
    "        return self.features(x)"
   ]
  },
  {
   "cell_type": "code",
   "execution_count": 8,
   "metadata": {
    "pycharm": {
     "name": "#%%\n"
    }
   },
   "outputs": [],
   "source": [
    "Transition = namedtuple('Transition',\n",
    "                        ('state', 'action', 'next_state', 'reward'))\n",
    "\n",
    "\n",
    "class ReplayMemory(object):\n",
    "\n",
    "    def __init__(self, capacity):\n",
    "        self.capacity = capacity\n",
    "        self.memory = []\n",
    "        self.position = 0\n",
    "\n",
    "    def push(self, *args):\n",
    "        \"\"\"Saves a transition.\"\"\"\n",
    "        if len(self.memory) < self.capacity:\n",
    "            self.memory.append(None)\n",
    "        self.memory[self.position] = Transition(*args)\n",
    "        self.position = (self.position + 1) % self.capacity\n",
    "\n",
    "    def sample(self, batch_size):\n",
    "        \n",
    "#         ret =  random.sample(self.memory, batch_size)\n",
    "        random.shuffle(self.memory)\n",
    "        self.position-=1\n",
    "        \n",
    "        return [self.memory.pop()]\n",
    "\n",
    "    def __len__(self):\n",
    "        return len(self.memory)"
   ]
  },
  {
   "cell_type": "code",
   "execution_count": 9,
   "metadata": {
    "pycharm": {
     "name": "#%%\n"
    }
   },
   "outputs": [
    {
     "name": "stderr",
     "output_type": "stream",
     "text": [
      "/usr/local/lib/python3.6/dist-packages/torch/cuda/__init__.py:52: UserWarning: CUDA initialization: Found no NVIDIA driver on your system. Please check that you have an NVIDIA GPU and installed a driver from http://www.nvidia.com/Download/index.aspx (Triggered internally at  /pytorch/c10/cuda/CUDAFunctions.cpp:100.)\n",
      "  return torch._C._cuda_getDeviceCount() > 0\n"
     ]
    }
   ],
   "source": [
    "device = torch.device(\"cuda\" if torch.cuda.is_available() else \"cpu\")"
   ]
  },
  {
   "cell_type": "code",
   "execution_count": 10,
   "metadata": {
    "pycharm": {
     "name": "#%%\n"
    }
   },
   "outputs": [],
   "source": [
    "input_size = 8\n",
    "h1 = 32\n",
    "h2 = 32\n",
    "h3 = 32\n",
    "h4 = 32\n",
    "h5 = 32\n",
    "output_size = actions.get_action_count()\n",
    "layers = [nn.Linear(input_size,h1) ,nn.ReLU(inplace=True), #, nn.BatchNorm1d(h1)\n",
    "         nn.Linear(h1,h2) ,nn.ReLU(inplace=True),\n",
    "#          nn.Linear(h2,h3) ,nn.ReLU(inplace=True),\n",
    "#          nn.Linear(h3,h4) , nn.ReLU(inplace=True),\n",
    "#          nn.Linear(h4,h5) ,nn.ReLU(inplace=True),\n",
    "         nn.Linear(h5,output_size),nn.ReLU(inplace=True) # , nn.BatchNorm1d(output_size)\n",
    "         ]\n",
    "for x in layers:\n",
    "    if isinstance(x, nn.Linear):\n",
    "        nn.init.normal_(x.weight, mean=0, std=1.0)\n"
   ]
  },
  {
   "cell_type": "code",
   "execution_count": 11,
   "metadata": {
    "pycharm": {
     "name": "#%%\n"
    }
   },
   "outputs": [
    {
     "data": {
      "text/plain": [
       "<matplotlib.image.AxesImage at 0x7ff0039db048>"
      ]
     },
     "execution_count": 11,
     "metadata": {},
     "output_type": "execute_result"
    },
    {
     "data": {
      "image/png": "[encoded data removed]",
      "text/plain": [
       "<Figure size 432x288 with 1 Axes>"
      ]
     },
     "metadata": {
      "needs_background": "light"
     },
     "output_type": "display_data"
    }
   ],
   "source": [
    "# Box2d Environment\n",
    "env = gym.make('LunarLanderContinuous-v2')\n",
    "env.reset()\n",
    "plt.imshow(env.render('rgb_array'))\n"
   ]
  },
  {
   "cell_type": "code",
   "execution_count": 12,
   "metadata": {
    "pycharm": {
     "name": "#%%\n"
    }
   },
   "outputs": [
    {
     "name": "stdout",
     "output_type": "stream",
     "text": [
      "state size is: Box(-inf, inf, (8,), float32)\n",
      "action size= Box(-1.0, 1.0, (2,), float32)\n",
      "[-0.00544367  1.4062291  -0.55140024 -0.2085015   0.00631466  0.12490054\n",
      "  0.          0.        ]\n"
     ]
    }
   ],
   "source": [
    "state_size = env.observation_space\n",
    "print(\"state size is:\", state_size)\n",
    "a = env.action_space\n",
    "print(\"action size=\",a) \n",
    "state = env.reset()\n",
    "print(state)   "
   ]
  },
  {
   "cell_type": "markdown",
   "metadata": {},
   "source": [
    "# Action Space\n",
    "            #is two floats [main engine, left-right engines].\n",
    "            # Main engine: -1..0 off, 0..+1 throttle from 50% to 100% power. Engine can't work with less than 50% power.\n",
    "            # Left-right:  -1.0..-0.5 fire left engine, +0.5..+1.0 fire right engine, -0.5..0.5 off\n",
    "            self.action_space = spaces.Box(-1, +1, (2,), dtype=np.float32)"
   ]
  },
  {
   "cell_type": "code",
   "execution_count": 13,
   "metadata": {
    "pycharm": {
     "name": "#%%\n"
    }
   },
   "outputs": [],
   "source": [
    "DF = 0.99 #discount_factor\n",
    "EPS_START = 0.95\n",
    "EPS_END = 0.05\n",
    "EPS_DECAY = 200\n",
    "max_iterations = 5000\n",
    "steps_done = 0\n",
    "TARGET_UPDATE = 10\n",
    "BATCH_SIZE =40\n",
    "memory = ReplayMemory(10000)\n",
    "# torch.autograd.set_detect_anomaly(True)\n",
    "#mytestmodel.zero_grad()\n"
   ]
  },
  {
   "cell_type": "code",
   "execution_count": 14,
   "metadata": {
    "pycharm": {
     "name": "#%%\n"
    }
   },
   "outputs": [
    {
     "data": {
      "text/plain": [
       "model(\n",
       "  (features): Sequential(\n",
       "    (0): Linear(in_features=8, out_features=32, bias=True)\n",
       "    (1): ReLU(inplace=True)\n",
       "    (2): Linear(in_features=32, out_features=32, bias=True)\n",
       "    (3): ReLU(inplace=True)\n",
       "    (4): Linear(in_features=32, out_features=9, bias=True)\n",
       "    (5): ReLU(inplace=True)\n",
       "  )\n",
       ")"
      ]
     },
     "execution_count": 14,
     "metadata": {},
     "output_type": "execute_result"
    }
   ],
   "source": [
    "policy_net =  model(layers).to(device)\n",
    "target_net =  model(layers).to(device)\n",
    "target_net.load_state_dict(policy_net.state_dict())\n",
    "target_net.eval()\n",
    "# policy_net = pickle.load(open(f\"model.pkl\", \"rb\"))\n",
    "# target_net = pickle.load(open(f\"model.pkl\", \"rb\"))"
   ]
  },
  {
   "cell_type": "code",
   "execution_count": 22,
   "metadata": {
    "pycharm": {
     "name": "#%%\n"
    }
   },
   "outputs": [],
   "source": [
    "def run_episode(train=True,DF = 0.98 ,max_iterations = 3000,print_debug=2,print_game=False,just_random = False):\n",
    "    global steps_done\n",
    "    env = gym.make('LunarLanderContinuous-v2')\n",
    "    env.reset()\n",
    "    env = wrap_env(env)\n",
    "    done = False\n",
    "    iter = 0\n",
    "\n",
    "    observation = state = env.reset()\n",
    "    done = False\n",
    "    action = 1\n",
    "    TotalReward = 0\n",
    "    TotalLoss=0\n",
    "    df = DF\n",
    "    while not done and iter < max_iterations :\n",
    "        iter +=1\n",
    "      \n",
    "    #   action = env.action_space.sample()\n",
    "        if len(memory) < BATCH_SIZE or not train:\n",
    "\n",
    "            sample = random.random()\n",
    "            eps_threshold = EPS_END + (EPS_START - EPS_END) * math.exp(-1. * steps_done / EPS_DECAY)\n",
    "            steps_done += 1\n",
    "            state_values = policy_net.forward(torch.from_numpy(observation))\n",
    "            if sample > eps_threshold and not just_random:\n",
    "#             if random.randint(1, 8)>2 or True :\n",
    "                # t.max(1) will return largest column value of each row.\n",
    "                # second column on max result is index of where max element was\n",
    "                # found, so we pick action with the larger expected reward.\n",
    "                real_action = state_values.argmax()\n",
    "            else:\n",
    "                real_action = torch.tensor(random.randrange(actions.get_action_count()), device=device, dtype=torch.long)\n",
    "\n",
    "\n",
    "            action = actions.get_action(real_action.item())\n",
    "            observation, reward, done, _ = env.step(action)\n",
    "            with torch.no_grad():\n",
    "                next_values = target_net.forward(torch.from_numpy(observation))\n",
    "                \n",
    "            if done:\n",
    "                new_reward = next_values.max()+0.001\n",
    "                next_observation = None\n",
    "            elif iter == max_iterations:\n",
    "                new_reward = -1000\n",
    "            else:\n",
    "                next_observation, new_reward, done, _ = env.step(action)\n",
    "                \n",
    "            next_val = next_values.max() if next_values.max()!=0 and next_values.max() is not None else -0.1\n",
    "            label = torch.tensor(reward + (df* new_reward), dtype=torch.float)\n",
    "            df *=df\n",
    "            if print_debug >2:\n",
    "                print(iter,\"action is:\",actions.get_full_action(real_action.item()) ,\n",
    "                     \"reward: \",reward,\"full:\",label,\n",
    "                    \"state_value:\",state_values,\n",
    "                    \"max opt\",state_values.gather(-1,real_action))\n",
    "\n",
    "            memory.push(observation, real_action, next_observation, label)\n",
    "            TotalReward+= reward\n",
    "        else:\n",
    "            while len(memory) > BATCH_SIZE / 2 :\n",
    "                transitions = memory.sample(1)\n",
    "                batch = Transition(*zip(*transitions))\n",
    "#                     state_batch = torch.cat(batch.state)\n",
    "#                     action_batch = torch.cat(batch.action)\n",
    "#                     reward_batch = torch.cat(batch.reward)\n",
    "\n",
    "                observation = batch.state[0]\n",
    "                real_action = batch.action[0]\n",
    "                label =batch.reward[0]\n",
    "\n",
    "                state_values = policy_net.forward(torch.from_numpy(observation))\n",
    "                if print_debug >1:\n",
    "                    print(\"state val:\",state_values )\n",
    "                \n",
    "                loss = F.smooth_l1_loss(state_values[real_action],label ) # Huber .unsqueeze(0)\n",
    "                if print_debug >1:\n",
    "                    print(\"loss func got:\",state_values[real_action],label,\"loss is \",loss.data.item())\n",
    "                \n",
    "\n",
    "                TotalLoss += loss.data.item()\n",
    "                \n",
    "                optimizer.zero_grad()\n",
    "                loss.backward()\n",
    "                optimizer.step()\n",
    "\n",
    "\n",
    "            \n",
    "      \n",
    "\n",
    "      #if you want to see results on real-time 'open' the following 4 lines\n",
    "        if iter % TARGET_UPDATE/2  == 0 and print_game:\n",
    "            pass\n",
    "            screen = env.render(mode='rgb_array')\n",
    "            plt.imshow(screen)\n",
    "            ipythondisplay.clear_output(wait=True)\n",
    "            ipythondisplay.display(plt.gcf())\n",
    "\n",
    "\n",
    "        if iter % TARGET_UPDATE == 0:\n",
    "            target_net.load_state_dict(policy_net.state_dict())\n",
    "    return [TotalReward,TotalLoss,iter,done]\n",
    "            \n"
   ]
  },
  {
   "cell_type": "code",
   "execution_count": 15,
   "metadata": {
    "pycharm": {
     "name": "#%%\n"
    }
   },
   "outputs": [],
   "source": [
    "optimizer = optim.SGD(policy_net.parameters(), lr=0.0000068 )#5e-6 RMSprop\n",
    "dtype = torch.float\n",
    "losses = []\n",
    "all_rewards = []\n"
   ]
  },
  {
   "cell_type": "code",
   "execution_count": null,
   "metadata": {
    "pycharm": {
     "name": "#%%\n"
    }
   },
   "outputs": [
    {
     "name": "stdout",
     "output_type": "stream",
     "text": [
      "Episode:  0 \n",
      " --------------------------------------------------\n",
      "-107.36384438955942 1984.7995921373367 51 True\n",
      "--------------------------------------------------\n"
     ]
    },
    {
     "data": {
      "image/png": "[encoded data removed]",
      "text/plain": [
       "<Figure size 1440x360 with 2 Axes>"
      ]
     },
     "metadata": {
      "needs_background": "light"
     },
     "output_type": "display_data"
    },
    {
     "name": "stdout",
     "output_type": "stream",
     "text": [
      "Episode:  1 \n",
      " --------------------------------------------------\n"
     ]
    },
    {
     "name": "stderr",
     "output_type": "stream",
     "text": [
      "/usr/local/lib/python3.6/dist-packages/ipykernel_launcher.py:49: UserWarning: To copy construct from a tensor, it is recommended to use sourceTensor.clone().detach() or sourceTensor.clone().detach().requires_grad_(True), rather than torch.tensor(sourceTensor).\n"
     ]
    },
    {
     "name": "stdout",
     "output_type": "stream",
     "text": [
      "-125.96096557888183 1640.4171895980835 48 True\n",
      "--------------------------------------------------\n",
      "Episode:  2 \n",
      " --------------------------------------------------\n"
     ]
    },
    {
     "name": "stderr",
     "output_type": "stream",
     "text": [
      "/usr/local/lib/python3.6/dist-packages/ipykernel_launcher.py:49: UserWarning: To copy construct from a tensor, it is recommended to use sourceTensor.clone().detach() or sourceTensor.clone().detach().requires_grad_(True), rather than torch.tensor(sourceTensor).\n"
     ]
    },
    {
     "name": "stdout",
     "output_type": "stream",
     "text": [
      "-235.70761364668962 2978.3941242231376 82 True\n",
      "--------------------------------------------------\n",
      "Episode:  3 \n",
      " --------------------------------------------------\n",
      "-317.0475263314275 4746.962350845337 91 True\n",
      "--------------------------------------------------\n",
      "Episode:  4 \n",
      " --------------------------------------------------\n",
      "-130.83801520246428 4224.347988322377 47 True\n",
      "--------------------------------------------------\n",
      "Episode:  5 \n",
      " --------------------------------------------------\n",
      "-4.512988325259659 1663.1977443695068 50 True\n",
      "--------------------------------------------------\n",
      "Episode:  6 \n",
      " --------------------------------------------------\n"
     ]
    },
    {
     "name": "stderr",
     "output_type": "stream",
     "text": [
      "/usr/local/lib/python3.6/dist-packages/ipykernel_launcher.py:49: UserWarning: To copy construct from a tensor, it is recommended to use sourceTensor.clone().detach() or sourceTensor.clone().detach().requires_grad_(True), rather than torch.tensor(sourceTensor).\n"
     ]
    },
    {
     "name": "stdout",
     "output_type": "stream",
     "text": [
      "-231.81436923907197 1370.3986716270447 41 True\n",
      "--------------------------------------------------\n",
      "Episode:  7 \n",
      " --------------------------------------------------\n",
      "-193.9291153541388 3772.810201406479 78 True\n",
      "--------------------------------------------------\n",
      "Episode:  8 \n",
      " --------------------------------------------------\n"
     ]
    },
    {
     "name": "stderr",
     "output_type": "stream",
     "text": [
      "/usr/local/lib/python3.6/dist-packages/ipykernel_launcher.py:49: UserWarning: To copy construct from a tensor, it is recommended to use sourceTensor.clone().detach() or sourceTensor.clone().detach().requires_grad_(True), rather than torch.tensor(sourceTensor).\n"
     ]
    },
    {
     "name": "stdout",
     "output_type": "stream",
     "text": [
      "-235.0057444814572 2155.520982982591 70 True\n",
      "--------------------------------------------------\n",
      "Episode:  9 \n",
      " --------------------------------------------------\n"
     ]
    },
    {
     "name": "stderr",
     "output_type": "stream",
     "text": [
      "/usr/local/lib/python3.6/dist-packages/ipykernel_launcher.py:49: UserWarning: To copy construct from a tensor, it is recommended to use sourceTensor.clone().detach() or sourceTensor.clone().detach().requires_grad_(True), rather than torch.tensor(sourceTensor).\n"
     ]
    },
    {
     "name": "stdout",
     "output_type": "stream",
     "text": [
      "-117.73978383299016 1303.69649040699 46 True\n",
      "--------------------------------------------------\n",
      "Episode:  10 \n",
      " --------------------------------------------------\n"
     ]
    },
    {
     "name": "stderr",
     "output_type": "stream",
     "text": [
      "/usr/local/lib/python3.6/dist-packages/ipykernel_launcher.py:49: UserWarning: To copy construct from a tensor, it is recommended to use sourceTensor.clone().detach() or sourceTensor.clone().detach().requires_grad_(True), rather than torch.tensor(sourceTensor).\n"
     ]
    },
    {
     "name": "stdout",
     "output_type": "stream",
     "text": [
      "-160.96152886712287 1238.6722746007144 41 True\n",
      "--------------------------------------------------\n"
     ]
    },
    {
     "data": {
      "image/png": "[encoded data removed]",
      "text/plain": [
       "<Figure size 1440x360 with 2 Axes>"
      ]
     },
     "metadata": {
      "needs_background": "light"
     },
     "output_type": "display_data"
    },
    {
     "name": "stdout",
     "output_type": "stream",
     "text": [
      "Episode:  11 \n",
      " --------------------------------------------------\n"
     ]
    },
    {
     "name": "stderr",
     "output_type": "stream",
     "text": [
      "/usr/local/lib/python3.6/dist-packages/ipykernel_launcher.py:49: UserWarning: To copy construct from a tensor, it is recommended to use sourceTensor.clone().detach() or sourceTensor.clone().detach().requires_grad_(True), rather than torch.tensor(sourceTensor).\n"
     ]
    },
    {
     "name": "stdout",
     "output_type": "stream",
     "text": [
      "-87.56095316428716 2085.801050186157 56 True\n",
      "--------------------------------------------------\n",
      "Episode:  12 \n",
      " --------------------------------------------------\n",
      "-165.13137313983898 2532.8597396612167 57 True\n",
      "--------------------------------------------------\n",
      "Episode:  13 \n",
      " --------------------------------------------------\n",
      "6.147678830819627 2429.5393903777003 64 True\n",
      "--------------------------------------------------\n",
      "Episode:  14 \n",
      " --------------------------------------------------\n"
     ]
    },
    {
     "name": "stderr",
     "output_type": "stream",
     "text": [
      "/usr/local/lib/python3.6/dist-packages/ipykernel_launcher.py:49: UserWarning: To copy construct from a tensor, it is recommended to use sourceTensor.clone().detach() or sourceTensor.clone().detach().requires_grad_(True), rather than torch.tensor(sourceTensor).\n"
     ]
    },
    {
     "name": "stdout",
     "output_type": "stream",
     "text": [
      "-352.02320900587677 5498.232961051166 104 True\n",
      "--------------------------------------------------\n",
      "Episode:  15 \n",
      " --------------------------------------------------\n"
     ]
    },
    {
     "name": "stderr",
     "output_type": "stream",
     "text": [
      "/usr/local/lib/python3.6/dist-packages/ipykernel_launcher.py:49: UserWarning: To copy construct from a tensor, it is recommended to use sourceTensor.clone().detach() or sourceTensor.clone().detach().requires_grad_(True), rather than torch.tensor(sourceTensor).\n"
     ]
    },
    {
     "name": "stdout",
     "output_type": "stream",
     "text": [
      "-169.8230800453124 2262.8121795654297 43 True\n",
      "--------------------------------------------------\n",
      "Episode:  16 \n",
      " --------------------------------------------------\n",
      "-134.88206678005508 2325.333306642073 66 True\n",
      "--------------------------------------------------\n",
      "Episode:  17 \n",
      " --------------------------------------------------\n"
     ]
    },
    {
     "name": "stderr",
     "output_type": "stream",
     "text": [
      "/usr/local/lib/python3.6/dist-packages/ipykernel_launcher.py:49: UserWarning: To copy construct from a tensor, it is recommended to use sourceTensor.clone().detach() or sourceTensor.clone().detach().requires_grad_(True), rather than torch.tensor(sourceTensor).\n"
     ]
    },
    {
     "name": "stdout",
     "output_type": "stream",
     "text": [
      "-159.70339616576877 1820.0136337280273 63 True\n",
      "--------------------------------------------------\n",
      "Episode:  18 \n",
      " --------------------------------------------------\n",
      "-12.931482030478595 1003.9315016120672 47 True\n",
      "--------------------------------------------------\n",
      "Episode:  19 \n",
      " --------------------------------------------------\n"
     ]
    },
    {
     "name": "stderr",
     "output_type": "stream",
     "text": [
      "/usr/local/lib/python3.6/dist-packages/ipykernel_launcher.py:49: UserWarning: To copy construct from a tensor, it is recommended to use sourceTensor.clone().detach() or sourceTensor.clone().detach().requires_grad_(True), rather than torch.tensor(sourceTensor).\n"
     ]
    },
    {
     "name": "stdout",
     "output_type": "stream",
     "text": [
      "-79.15031109396057 1599.9735283851624 67 True\n",
      "--------------------------------------------------\n",
      "Episode:  20 \n",
      " --------------------------------------------------\n"
     ]
    },
    {
     "name": "stderr",
     "output_type": "stream",
     "text": [
      "/usr/local/lib/python3.6/dist-packages/ipykernel_launcher.py:49: UserWarning: To copy construct from a tensor, it is recommended to use sourceTensor.clone().detach() or sourceTensor.clone().detach().requires_grad_(True), rather than torch.tensor(sourceTensor).\n"
     ]
    },
    {
     "name": "stdout",
     "output_type": "stream",
     "text": [
      "-550.4376172240891 14822.076632483397 210 True\n",
      "--------------------------------------------------\n"
     ]
    },
    {
     "data": {
      "image/png": "[encoded data removed]",
      "text/plain": [
       "<Figure size 1440x360 with 2 Axes>"
      ]
     },
     "metadata": {
      "needs_background": "light"
     },
     "output_type": "display_data"
    },
    {
     "name": "stdout",
     "output_type": "stream",
     "text": [
      "Episode:  21 \n",
      " --------------------------------------------------\n"
     ]
    },
    {
     "name": "stderr",
     "output_type": "stream",
     "text": [
      "/usr/local/lib/python3.6/dist-packages/ipykernel_launcher.py:49: UserWarning: To copy construct from a tensor, it is recommended to use sourceTensor.clone().detach() or sourceTensor.clone().detach().requires_grad_(True), rather than torch.tensor(sourceTensor).\n"
     ]
    },
    {
     "name": "stdout",
     "output_type": "stream",
     "text": [
      "-71.49557821431378 3489.639391899109 36 True\n",
      "--------------------------------------------------\n",
      "Episode:  22 \n",
      " --------------------------------------------------\n"
     ]
    },
    {
     "name": "stderr",
     "output_type": "stream",
     "text": [
      "/usr/local/lib/python3.6/dist-packages/ipykernel_launcher.py:49: UserWarning: To copy construct from a tensor, it is recommended to use sourceTensor.clone().detach() or sourceTensor.clone().detach().requires_grad_(True), rather than torch.tensor(sourceTensor).\n"
     ]
    },
    {
     "name": "stdout",
     "output_type": "stream",
     "text": [
      "-65.46173784385651 2224.9421949386597 62 True\n",
      "--------------------------------------------------\n",
      "Episode:  23 \n",
      " --------------------------------------------------\n"
     ]
    },
    {
     "name": "stderr",
     "output_type": "stream",
     "text": [
      "/usr/local/lib/python3.6/dist-packages/ipykernel_launcher.py:49: UserWarning: To copy construct from a tensor, it is recommended to use sourceTensor.clone().detach() or sourceTensor.clone().detach().requires_grad_(True), rather than torch.tensor(sourceTensor).\n"
     ]
    },
    {
     "name": "stdout",
     "output_type": "stream",
     "text": [
      "-120.36459134039801 1528.5996067523956 58 True\n",
      "--------------------------------------------------\n",
      "Episode:  24 \n",
      " --------------------------------------------------\n"
     ]
    },
    {
     "name": "stderr",
     "output_type": "stream",
     "text": [
      "/usr/local/lib/python3.6/dist-packages/ipykernel_launcher.py:49: UserWarning: To copy construct from a tensor, it is recommended to use sourceTensor.clone().detach() or sourceTensor.clone().detach().requires_grad_(True), rather than torch.tensor(sourceTensor).\n"
     ]
    },
    {
     "name": "stdout",
     "output_type": "stream",
     "text": [
      "-59.91119379815893 943.3988342285156 49 True\n",
      "--------------------------------------------------\n",
      "Episode:  25 \n",
      " --------------------------------------------------\n",
      "-16.117799383125195 1356.787940979004 37 True\n",
      "--------------------------------------------------\n",
      "Episode:  26 \n",
      " --------------------------------------------------\n",
      "-83.96740253172706 1070.0636389255524 57 True\n",
      "--------------------------------------------------\n",
      "Episode:  27 \n",
      " --------------------------------------------------\n",
      "24.90363692141168 1697.9586391448975 48 True\n",
      "--------------------------------------------------\n",
      "Episode:  28 \n",
      " --------------------------------------------------\n",
      "-170.30394750732006 2837.7793238162994 114 True\n",
      "--------------------------------------------------\n",
      "Episode:  29 \n",
      " --------------------------------------------------\n",
      "7.060798240061384 1236.7809019833803 40 True\n",
      "--------------------------------------------------\n",
      "Episode:  30 \n",
      " --------------------------------------------------\n",
      "-12.630204669456374 1942.9752032756805 82 True\n",
      "--------------------------------------------------\n"
     ]
    },
    {
     "data": {
      "image/png": "[encoded data removed]",
      "text/plain": [
       "<Figure size 1440x360 with 2 Axes>"
      ]
     },
     "metadata": {
      "needs_background": "light"
     },
     "output_type": "display_data"
    },
    {
     "name": "stdout",
     "output_type": "stream",
     "text": [
      "Episode:  31 \n",
      " --------------------------------------------------\n",
      "21.551013981148046 1093.599063038826 60 True\n",
      "--------------------------------------------------\n",
      "Episode:  32 \n",
      " --------------------------------------------------\n",
      "-50.487861375850486 860.9822674691677 54 True\n",
      "--------------------------------------------------\n",
      "Episode:  33 \n",
      " --------------------------------------------------\n"
     ]
    },
    {
     "name": "stderr",
     "output_type": "stream",
     "text": [
      "/usr/local/lib/python3.6/dist-packages/ipykernel_launcher.py:49: UserWarning: To copy construct from a tensor, it is recommended to use sourceTensor.clone().detach() or sourceTensor.clone().detach().requires_grad_(True), rather than torch.tensor(sourceTensor).\n"
     ]
    },
    {
     "name": "stdout",
     "output_type": "stream",
     "text": [
      "-262.9554864904852 2499.9571773707867 74 True\n",
      "--------------------------------------------------\n",
      "Episode:  34 \n",
      " --------------------------------------------------\n",
      "42.8868678789481 1756.6847741603851 59 True\n",
      "--------------------------------------------------\n",
      "Episode:  35 \n",
      " --------------------------------------------------\n",
      "-89.44116329719952 1007.5066776275635 54 True\n",
      "--------------------------------------------------\n",
      "Episode:  36 \n",
      " --------------------------------------------------\n",
      "17.791421844681267 974.1145648956299 40 True\n",
      "--------------------------------------------------\n",
      "Episode:  37 \n",
      " --------------------------------------------------\n"
     ]
    },
    {
     "name": "stderr",
     "output_type": "stream",
     "text": [
      "/usr/local/lib/python3.6/dist-packages/ipykernel_launcher.py:49: UserWarning: To copy construct from a tensor, it is recommended to use sourceTensor.clone().detach() or sourceTensor.clone().detach().requires_grad_(True), rather than torch.tensor(sourceTensor).\n"
     ]
    },
    {
     "name": "stdout",
     "output_type": "stream",
     "text": [
      "-106.96312802767565 1326.4174757525325 56 True\n",
      "--------------------------------------------------\n",
      "Episode:  38 \n",
      " --------------------------------------------------\n"
     ]
    },
    {
     "name": "stderr",
     "output_type": "stream",
     "text": [
      "/usr/local/lib/python3.6/dist-packages/ipykernel_launcher.py:49: UserWarning: To copy construct from a tensor, it is recommended to use sourceTensor.clone().detach() or sourceTensor.clone().detach().requires_grad_(True), rather than torch.tensor(sourceTensor).\n"
     ]
    },
    {
     "name": "stdout",
     "output_type": "stream",
     "text": [
      "-196.993309789944 1289.2201039791107 44 True\n",
      "--------------------------------------------------\n",
      "Episode:  39 \n",
      " --------------------------------------------------\n"
     ]
    },
    {
     "name": "stderr",
     "output_type": "stream",
     "text": [
      "/usr/local/lib/python3.6/dist-packages/ipykernel_launcher.py:49: UserWarning: To copy construct from a tensor, it is recommended to use sourceTensor.clone().detach() or sourceTensor.clone().detach().requires_grad_(True), rather than torch.tensor(sourceTensor).\n"
     ]
    },
    {
     "name": "stdout",
     "output_type": "stream",
     "text": [
      "-147.1955886540548 2378.377035200596 87 True\n",
      "--------------------------------------------------\n",
      "Episode:  40 \n",
      " --------------------------------------------------\n"
     ]
    },
    {
     "name": "stderr",
     "output_type": "stream",
     "text": [
      "/usr/local/lib/python3.6/dist-packages/ipykernel_launcher.py:49: UserWarning: To copy construct from a tensor, it is recommended to use sourceTensor.clone().detach() or sourceTensor.clone().detach().requires_grad_(True), rather than torch.tensor(sourceTensor).\n"
     ]
    },
    {
     "name": "stdout",
     "output_type": "stream",
     "text": [
      "-144.9955397304604 1320.9690754637122 45 True\n",
      "--------------------------------------------------\n"
     ]
    },
    {
     "data": {
      "image/png": "[encoded data removed]",
      "text/plain": [
       "<Figure size 1440x360 with 2 Axes>"
      ]
     },
     "metadata": {
      "needs_background": "light"
     },
     "output_type": "display_data"
    },
    {
     "name": "stdout",
     "output_type": "stream",
     "text": [
      "Episode:  41 \n",
      " --------------------------------------------------\n",
      "-15.898949216623299 1305.801622748375 43 True\n",
      "--------------------------------------------------\n",
      "Episode:  42 \n",
      " --------------------------------------------------\n"
     ]
    }
   ],
   "source": [
    "losses = []\n",
    "all_rewards = []\n",
    "for a in range(100):\n",
    "    print(\"Episode: \",a,\"\\n\",\"-\"*50)\n",
    "\n",
    "    TotalReward,TotalLoss,iter,done = run_episode(print_debug=0)\n",
    "    print(TotalReward,TotalLoss,iter,done )\n",
    "    \n",
    "  \n",
    "    all_rewards.append(TotalReward)\n",
    "    losses.append(TotalLoss/iter)\n",
    "    print(\"-\"*50)\n",
    "    if  a % TARGET_UPDATE*5 == 0:\n",
    "#         ipythondisplay.clear_output(wait=True)\n",
    "        pickle.dump(policy_net, open(f\"model.pkl\", \"wb\"))\n",
    "        plot(a, all_rewards, losses)\n"
   ]
  },
  {
   "cell_type": "code",
   "execution_count": null,
   "metadata": {
    "pycharm": {
     "name": "#%%\n"
    }
   },
   "outputs": [],
   "source": [
    "env.close()\n",
    "show_video()"
   ]
  },
  {
   "cell_type": "code",
   "execution_count": null,
   "metadata": {
    "pycharm": {
     "name": "#%%\n"
    }
   },
   "outputs": [],
   "source": [
    "print(iter)"
   ]
  },
  {
   "cell_type": "code",
   "execution_count": null,
   "metadata": {
    "pycharm": {
     "name": "#%%\n"
    }
   },
   "outputs": [],
   "source": [
    "#Draw random samples from a normal (Gaussian) distribution.\n",
    "mu, sigma = 0, 0.05 # mean and standard deviation\n",
    "s = np.random.normal(mu, sigma, 1)\n",
    "print(s)"
   ]
  },
  {
   "cell_type": "code",
   "execution_count": null,
   "metadata": {
    "pycharm": {
     "name": "#%%\n"
    }
   },
   "outputs": [],
   "source": []
  },
  {
   "cell_type": "code",
   "execution_count": null,
   "metadata": {
    "pycharm": {
     "name": "#%%\n"
    }
   },
   "outputs": [],
   "source": []
  },
  {
   "cell_type": "code",
   "execution_count": null,
   "metadata": {},
   "outputs": [],
   "source": []
  },
  {
   "cell_type": "code",
   "execution_count": null,
   "metadata": {},
   "outputs": [],
   "source": []
  }
 ],
 "metadata": {
  "colab": {
   "name": "RL-LunaLnder-finalProj.ipynb",
   "provenance": []
  },
  "kernelspec": {
   "display_name": "Python 3",
   "language": "python",
   "name": "python3"
  },
  "language_info": {
   "codemirror_mode": {
    "name": "ipython",
    "version": 3
   },
   "file_extension": ".py",
   "mimetype": "text/x-python",
   "name": "python",
   "nbconvert_exporter": "python",
   "pygments_lexer": "ipython3",
   "version": "3.6.9"
  },
  "pycharm": {
   "stem_cell": {
    "cell_type": "raw",
    "metadata": {
     "collapsed": false
    },
    "source": []
   }
  }
 },
 "nbformat": 4,
 "nbformat_minor": 1
}
