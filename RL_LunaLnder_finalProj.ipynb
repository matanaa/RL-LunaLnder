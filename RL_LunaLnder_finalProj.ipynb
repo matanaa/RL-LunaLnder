{
 "cells": [
  {
   "cell_type": "markdown",
   "metadata": {
    "id": "HND9HYhOE89T"
   },
   "source": []
  },
  {
   "cell_type": "markdown",
   "metadata": {
    "id": "W-cVn8qQKtJq"
   },
   "source": [
    "Based on the following links to create this notebook:\n",
    "\n",
    "https://colab.research.google.com/drive/18LdlDDT87eb8cCTHZsXyS9ksQPzL3i6H\n",
    "\n",
    "https://colab.research.google.com/drive/1tug_bpg8RwrFOI8C6Ed-zo0OgD3yfnWy#scrollTo=bhsj7BTPHepg\n",
    "\n",
    "https://colab.research.google.com/drive/1tug_bpg8RwrFOI8C6Ed-zo0OgD3yfnWy\n",
    "\n",
    "\n",
    "To run Gym, you have to install prerequisites like xvbf,opengl & other python-dev packages using the following codes."
   ]
  },
  {
   "cell_type": "markdown",
   "metadata": {},
   "source": [
    "https://pytorch.org/tutorials/intermediate/reinforcement_q_learning.html"
   ]
  },
  {
   "cell_type": "code",
   "execution_count": null,
   "metadata": {
    "colab": {
     "base_uri": "https://localhost:8080/"
    },
    "id": "GmtbAjPPKiFw",
    "outputId": "9d745500-a623-46dc-9717-57fd01f29646"
   },
   "outputs": [],
   "source": [
    "!pip install gym  torch\n",
    "!apt-get install python-opengl ffmpeg -y \n",
    "!apt install xvfb -y \n",
    "!pip install pyvirtualdisplay  \n",
    "!pip install piglet \n",
    "!pip install gym[box2d] \n",
    "!pip install tensorflow \n"
   ]
  },
  {
   "cell_type": "code",
   "execution_count": 1,
   "metadata": {},
   "outputs": [
    {
     "data": {
      "text/plain": [
       "<pyvirtualdisplay.display.Display at 0x7f2e9c2252b0>"
      ]
     },
     "execution_count": 1,
     "metadata": {},
     "output_type": "execute_result"
    }
   ],
   "source": [
    "from pyvirtualdisplay import Display\n",
    "display = Display(visible=0, size=(1400, 900))\n",
    "display.start()\n"
   ]
  },
  {
   "cell_type": "code",
   "execution_count": 2,
   "metadata": {
    "id": "Y_hxdz4ALVQ3"
   },
   "outputs": [],
   "source": [
    "# This code creates a virtual display to draw game images on. \n",
    "# If you are running locally, just ignore it\n",
    "import os\n",
    "if type(os.environ.get(\"DISPLAY\")) is not str or len(os.environ.get(\"DISPLAY\"))==0:\n",
    "    !bash ../xvfb start\n",
    "    %env DISPLAY=:1"
   ]
  },
  {
   "cell_type": "code",
   "execution_count": 3,
   "metadata": {
    "id": "C1GqN0iRLaZk"
   },
   "outputs": [],
   "source": [
    "import gym\n",
    "from gym import logger as gymlogger\n",
    "from gym.wrappers import Monitor\n",
    "gymlogger.set_level(40) # error only\n",
    "# import tensorflow as tf\n",
    "import random\n",
    "import matplotlib.pyplot as plt\n",
    "%matplotlib inline\n",
    "import glob\n",
    "import io\n",
    "import base64\n",
    "from IPython.display import HTML\n",
    "\n",
    "from IPython import display as ipythondisplay"
   ]
  },
  {
   "cell_type": "code",
   "execution_count": 41,
   "metadata": {
    "id": "ILbriB_oLn5T"
   },
   "outputs": [
    {
     "data": {
      "text/plain": [
       "0.07796053055748166"
      ]
     },
     "execution_count": 41,
     "metadata": {},
     "output_type": "execute_result"
    }
   ],
   "source": [
    "\"\"\"\n",
    "Utility functions to enable video recording of gym environment and displaying it\n",
    "To enable video, just do \"env = wrap_env(env)\"\"\n",
    "\"\"\"\n",
    "\n",
    "def show_video():\n",
    "  mp4list = glob.glob('video/*.mp4')\n",
    "  if len(mp4list) > 0:\n",
    "    mp4 = mp4list[0]\n",
    "    video = io.open(mp4, 'r+b').read()\n",
    "    encoded = base64.b64encode(video)\n",
    "    ipythondisplay.display(HTML(data='''<video alt=\"test\" autoplay \n",
    "                loop controls style=\"height: 400px;\">\n",
    "                <source src=\"data:video/mp4;base64,{0}\" type=\"video/mp4\" />\n",
    "             </video>'''.format(encoded.decode('ascii'))))\n",
    "  else: \n",
    "    print(\"Could not find video\")\n",
    "    \n",
    "\n",
    "def wrap_env(env):\n",
    "  env = Monitor(env, './video', force=True)\n",
    "  return env\n",
    "\n",
    "def make_noise():\n",
    "    mu, sigma = 0, 0.05 # mean and standard deviation\n",
    "    return np.random.normal(mu, sigma, 1)[0]\n"
   ]
  },
  {
   "cell_type": "markdown",
   "metadata": {},
   "source": [
    "# My Code"
   ]
  },
  {
   "cell_type": "code",
   "execution_count": 5,
   "metadata": {},
   "outputs": [],
   "source": [
    "import torch\n",
    "import numpy as np\n",
    "import torch.nn as nn\n",
    "import torch.nn.functional as F\n",
    "import torch.optim as optim"
   ]
  },
  {
   "cell_type": "code",
   "execution_count": 44,
   "metadata": {},
   "outputs": [
    {
     "data": {
      "text/plain": [
       "28"
      ]
     },
     "execution_count": 44,
     "metadata": {},
     "output_type": "execute_result"
    }
   ],
   "source": [
    "class defaultActions:\n",
    "    def __init__(self):\n",
    "\n",
    "        self.main = [[0 , \"Main off\"],\n",
    "                     [0.5 ,\"Main slow\"],\n",
    "                     [0.75 , \"Main meduim\"],\n",
    "                     [1    , \"Main strong\"]\n",
    "                    ]\n",
    "        self.left_right = [\n",
    "                        [0, \"Left Right off\"],\n",
    "                        [-0.5 , \"Left slow\"],\n",
    "                        [-0.75  , \"Left meduim\"],\n",
    "                        [-1 , \"Left strong\"],\n",
    "                        \n",
    "                        [0.5 , \"Right slow\"],\n",
    "                        [0.75  , \"Right meduim\"],\n",
    "                        [1 , \"Right strong\"],\n",
    "                        ]\n",
    "        self.all_actions = {}\n",
    "        i = 0  \n",
    "        for main_eng in self.main:\n",
    "            for sec_eng in self.left_right:\n",
    "#                 print (f\"a{i},act:[{main_eng[0]},{sec_eng[0]},{main_eng[1]} {sec_eng[1]}]\")\n",
    "                self.all_actions[i] = [[main_eng[0],sec_eng[0]] , f\"{main_eng[1]}, {sec_eng[1]}\"]\n",
    "                i+=1\n",
    "        \n",
    "    def get_full_action(self,id):\n",
    "        return self.all_actions[id]\n",
    "\n",
    "    def get_action(self,id,add_noise=True):\n",
    "        if add_noise :\n",
    "            return [self.all_actions[id][0][0]+make_noise(), self.all_actions[id][0][1]+make_noise()]\n",
    "        else:\n",
    "            return self.all_actions[id][0]\n",
    "\n",
    "    def get_description(self,id):\n",
    "        return self.all_actions[id][1]\n",
    "    def get_action_count(self):\n",
    "        return len(self.all_actions)\n",
    "actions = defaultActions()\n",
    "actions.get_action_count()\n"
   ]
  },
  {
   "cell_type": "code",
   "execution_count": 7,
   "metadata": {},
   "outputs": [],
   "source": [
    "class model(nn.Module):\n",
    "    def __init__(self, layers, name=\"\"):\n",
    "        super(model, self).__init__()\n",
    "        self.name = \"\"\n",
    "        self.layers = layers\n",
    "        self.features = nn.Sequential(*layers)\n",
    "\n",
    "\n",
    "    def name(self):\n",
    "        return self.name\n",
    "\n",
    "    def model_summery(self):\n",
    "        return self.features.summary()\n",
    "\n",
    "    def forward(self, x):\n",
    "        return self.features(x)"
   ]
  },
  {
   "cell_type": "code",
   "execution_count": 8,
   "metadata": {},
   "outputs": [
    {
     "name": "stderr",
     "output_type": "stream",
     "text": [
      "/usr/local/lib/python3.6/dist-packages/torch/cuda/__init__.py:52: UserWarning: CUDA initialization: Found no NVIDIA driver on your system. Please check that you have an NVIDIA GPU and installed a driver from http://www.nvidia.com/Download/index.aspx (Triggered internally at  /pytorch/c10/cuda/CUDAFunctions.cpp:100.)\n",
      "  return torch._C._cuda_getDeviceCount() > 0\n"
     ]
    }
   ],
   "source": [
    "TARGET_UPDATE = 5\n",
    "device = torch.device(\"cuda\" if torch.cuda.is_available() else \"cpu\")"
   ]
  },
  {
   "cell_type": "code",
   "execution_count": 9,
   "metadata": {},
   "outputs": [],
   "source": [
    "input_size = 8\n",
    "h1 = 500\n",
    "h2 = 500 \n",
    "h3 = 500 \n",
    "h4 = 500\n",
    "h5 = 500\n",
    "output_size = actions.get_action_count()\n",
    "layers = [nn.Linear(input_size,h1) ,nn.ReLU(inplace=True), #, nn.BatchNorm1d(h1)\n",
    "         nn.Linear(h1,h2) ,nn.ReLU(inplace=True),\n",
    "         nn.Linear(h2,h3) ,nn.ReLU(inplace=True),\n",
    "         nn.Linear(h3,h4) , nn.ReLU(inplace=True),\n",
    "         nn.Linear(h4,h5) ,nn.ReLU(inplace=True),\n",
    "         nn.Linear(h5,output_size),nn.ReLU(inplace=True) # , nn.BatchNorm1d(output_size)\n",
    "         ]\n"
   ]
  },
  {
   "cell_type": "code",
   "execution_count": 10,
   "metadata": {
    "colab": {
     "base_uri": "https://localhost:8080/",
     "height": 286
    },
    "id": "yCHLYkMkLzcf",
    "outputId": "a6a0fa34-ac87-47ca-9437-68de50367627"
   },
   "outputs": [
    {
     "data": {
      "text/plain": [
       "<matplotlib.image.AxesImage at 0x7f2e6491f6d8>"
      ]
     },
     "execution_count": 10,
     "metadata": {},
     "output_type": "execute_result"
    },
    {
     "data": {
      "image/png": "[encoded data removed]",
      "text/plain": [
       "<Figure size 432x288 with 1 Axes>"
      ]
     },
     "metadata": {
      "needs_background": "light"
     },
     "output_type": "display_data"
    }
   ],
   "source": [
    "# Box2d Environment\n",
    "env = gym.make('LunarLanderContinuous-v2')\n",
    "env.reset()\n",
    "plt.imshow(env.render('rgb_array'))\n"
   ]
  },
  {
   "cell_type": "code",
   "execution_count": 11,
   "metadata": {
    "colab": {
     "base_uri": "https://localhost:8080/"
    },
    "id": "Wh4v_3zCRepL",
    "outputId": "9050bd8f-a7ba-488a-e09d-b340f97e99ee"
   },
   "outputs": [
    {
     "name": "stdout",
     "output_type": "stream",
     "text": [
      "state size is: Box(-inf, inf, (8,), float32)\n",
      "action size= Box(-1.0, 1.0, (2,), float32)\n",
      "[ 0.00748243  1.4012811   0.757856   -0.42842156 -0.0086633  -0.17166564\n",
      "  0.          0.        ]\n"
     ]
    }
   ],
   "source": [
    "state_size = env.observation_space\n",
    "print(\"state size is:\", state_size)\n",
    "a = env.action_space\n",
    "print(\"action size=\",a) \n",
    "state = env.reset()\n",
    "print(state)   "
   ]
  },
  {
   "cell_type": "markdown",
   "metadata": {
    "id": "yTfAdl7dSS-K"
   },
   "source": [
    "# Action Space\n",
    "            #is two floats [main engine, left-right engines].\n",
    "            # Main engine: -1..0 off, 0..+1 throttle from 50% to 100% power. Engine can't work with less than 50% power.\n",
    "            # Left-right:  -1.0..-0.5 fire left engine, +0.5..+1.0 fire right engine, -0.5..0.5 off\n",
    "            self.action_space = spaces.Box(-1, +1, (2,), dtype=np.float32)"
   ]
  },
  {
   "cell_type": "code",
   "execution_count": 19,
   "metadata": {},
   "outputs": [
    {
     "data": {
      "text/plain": [
       "<torch.autograd.anomaly_mode.set_detect_anomaly at 0x7f2e53156d30>"
      ]
     },
     "execution_count": 19,
     "metadata": {},
     "output_type": "execute_result"
    }
   ],
   "source": [
    "df = 0.9 #discount_factor\n",
    "not_val = -999999\n",
    "last_val = not_val\n",
    "last_out = None\n",
    "max_iterations = 3000\n",
    "\n",
    "torch.autograd.set_detect_anomaly(True)\n",
    "#mytestmodel.zero_grad()\n"
   ]
  },
  {
   "cell_type": "code",
   "execution_count": 20,
   "metadata": {},
   "outputs": [],
   "source": [
    "policy_net =  model(layers).to(device)\n",
    "target_net =  model(layers).to(device)\n",
    "target_net.load_state_dict(policy_net.state_dict())\n",
    "target_net.eval()\n",
    "optimizer = optim.SGD(policy_net.parameters(), lr=0.35, momentum=0.9)"
   ]
  },
  {
   "cell_type": "code",
   "execution_count": null,
   "metadata": {
    "colab": {
     "base_uri": "https://localhost:8080/"
    },
    "id": "EQaFvJdvM4qX",
    "outputId": "abb1bb94-322c-4052-ea47-3924aa01d167"
   },
   "outputs": [
    {
     "name": "stdout",
     "output_type": "stream",
     "text": [
      "False\n",
      "action is: [[0, 0], 'Main off, Left Right off'] reward:  0.8336568807802109\n",
      "action is: [[0, 0], 'Main off, Left Right off'] reward:  -1.6226205047328903\n",
      "action is: [[0, 0], 'Main off, Left Right off'] reward:  0.8432485703146995\n",
      "action is: [[0, 0], 'Main off, Left Right off'] reward:  -0.29552436813023064\n",
      "action is: [[0, 0], 'Main off, Left Right off'] reward:  0.7716027008684136\n"
     ]
    },
    {
     "name": "stderr",
     "output_type": "stream",
     "text": [
      "/usr/local/lib/python3.6/dist-packages/ipykernel_launcher.py:25: UserWarning: Using a target size (torch.Size([1, 1])) that is different to the input size (torch.Size([28])). This will likely lead to incorrect results due to broadcasting. Please ensure they have the same size.\n"
     ]
    },
    {
     "name": "stdout",
     "output_type": "stream",
     "text": [
      "action is: [[0, 0], 'Main off, Left Right off'] reward:  0.7059319513122375\n",
      "action is: [[0, 0], 'Main off, Left Right off'] reward:  -1.553578209655774\n",
      "action is: [[0, 0], 'Main off, Left Right off'] reward:  0.6277124193699706\n",
      "action is: [[0, 0], 'Main off, Left Right off'] reward:  -0.4366858571070906\n",
      "action is: [[0, 0], 'Main off, Left Right off'] reward:  -0.336240846636656\n",
      "action is: [[0, 0], 'Main off, Left Right off'] reward:  -1.2959709035469245\n",
      "action is: [[0, 0], 'Main off, Left Right off'] reward:  -0.40626433821968244\n",
      "action is: [[0, 0], 'Main off, Left Right off'] reward:  -1.066068414123731\n",
      "action is: [[0, 0], 'Main off, Left Right off'] reward:  -2.323307614333146\n",
      "action is: [[0, 0], 'Main off, Left Right off'] reward:  0.4599621316535547\n",
      "action is: [[0, 0], 'Main off, Left Right off'] reward:  0.340453418495116\n",
      "action is: [[0, 0], 'Main off, Left Right off'] reward:  0.2226001363965395\n",
      "action is: [[0, 0], 'Main off, Left Right off'] reward:  0.11054990579552282\n",
      "action is: [[0, 0], 'Main off, Left Right off'] reward:  0.00352263018576196\n",
      "action is: [[0, 0], 'Main off, Left Right off'] reward:  -0.4985590875168612\n",
      "action is: [[0, 0], 'Main off, Left Right off'] reward:  -0.14925942200505915\n",
      "action is: [[0, 0], 'Main off, Left Right off'] reward:  -0.6081208523650389\n",
      "action is: [[0, 0], 'Main off, Left Right off'] reward:  -0.38849065792891224\n",
      "action is: [[0, 0], 'Main off, Left Right off'] reward:  -0.5604636348489294\n",
      "action is: [[0, 0], 'Main off, Left Right off'] reward:  -0.7322675937492136\n",
      "action is: [[0, 0], 'Main off, Left Right off'] reward:  -0.9758996018672803\n",
      "action is: [[0, 0], 'Main off, Left Right off'] reward:  -0.872097701713642\n",
      "action is: [[0, 0], 'Main off, Left Right off'] reward:  -1.0141864879733475\n",
      "action is: [[0, 0], 'Main off, Left Right off'] reward:  -1.1413294808891692\n",
      "action is: [[0, 0], 'Main off, Left Right off'] reward:  -1.0223121321770918\n",
      "action is: [[0, 0], 'Main off, Left Right off'] reward:  -0.7006483929225056\n",
      "action is: [[0, 0], 'Main off, Left Right off'] reward:  -1.238556075801006\n",
      "action is: [[0, 0], 'Main off, Left Right off'] reward:  0.022851339179101177\n",
      "action is: [[0, 0], 'Main off, Left Right off'] reward:  -1.1892421859241438\n",
      "action is: [[0, 0], 'Main off, Left Right off'] reward:  -0.9552990330467651\n",
      "action is: [[0, 0], 'Main off, Left Right off'] reward:  -1.2951687211852345\n",
      "action is: [[0, 0], 'Main off, Left Right off'] reward:  -0.856648853021909\n",
      "action is: [[0, 0], 'Main off, Left Right off'] reward:  -1.3172723594973945\n",
      "action is: [[0, 0], 'Main off, Left Right off'] reward:  -1.3747447199006047\n",
      "action is: [[0, 0], 'Main off, Left Right off'] reward:  -0.11346851043159631\n",
      "action is: [[0, 0], 'Main off, Left Right off'] reward:  -1.1682428038105854\n",
      "action is: [[0, 0], 'Main off, Left Right off'] reward:  -1.3373856819948742\n",
      "action is: [[0, 0], 'Main off, Left Right off'] reward:  -1.3743277056189527\n",
      "action is: [[0, 0], 'Main off, Left Right off'] reward:  -1.401594631904885\n",
      "action is: [[0, 0], 'Main off, Left Right off'] reward:  -1.4201681286259316\n",
      "action is: [[0, 0], 'Main off, Left Right off'] reward:  -1.4308458805784028\n",
      "action is: [[0, 0], 'Main off, Left Right off'] reward:  0.6766311752148113\n",
      "action is: [[0, 0], 'Main off, Left Right off'] reward:  -1.4764231635020906\n",
      "action is: [[0, 0], 'Main off, Left Right off'] reward:  -0.33562707084903987\n",
      "action is: [[0, 0], 'Main off, Left Right off'] reward:  -1.4623908701412063\n",
      "action is: [[0, 0], 'Main off, Left Right off'] reward:  -0.5934403754717039\n",
      "action is: [[0, 0], 'Main off, Left Right off'] reward:  -0.9035420926188351\n",
      "action is: [[0, 0], 'Main off, Left Right off'] reward:  0.3037575937294946\n",
      "action is: [[0, 0], 'Main off, Left Right off'] reward:  -1.4308574733937292\n",
      "action is: [[0, 0], 'Main off, Left Right off'] reward:  -1.4176594038546\n",
      "action is: [[0, 0], 'Main off, Left Right off'] reward:  -0.8509208697672761\n",
      "action is: [[0, 0], 'Main off, Left Right off'] reward:  -1.332645431353228\n",
      "action is: [[0, 0], 'Main off, Left Right off'] reward:  0.017669641210670772\n",
      "action is: [[0, 0], 'Main off, Left Right off'] reward:  -1.3525847485308304\n",
      "action is: [[0, 0], 'Main off, Left Right off'] reward:  0.780763315552764\n",
      "action is: [[0, 0], 'Main off, Left Right off'] reward:  -1.3598740929708981\n",
      "action is: [[0, 0], 'Main off, Left Right off'] reward:  -0.5994177531017385\n",
      "action is: [[0, 0], 'Main off, Left Right off'] reward:  -1.3162743663079937\n",
      "action is: [[0, 0], 'Main off, Left Right off'] reward:  0.7209630357527204\n",
      "action is: [[0, 0], 'Main off, Left Right off'] reward:  0.7168067198299866\n",
      "action is: [[0, 0], 'Main off, Left Right off'] reward:  -1.3023184267574663\n",
      "action is: [[0, 0], 'Main off, Left Right off'] reward:  0.2259641406612957\n",
      "action is: [[0, 0], 'Main off, Left Right off'] reward:  -1.2473925168334574\n",
      "action is: [[0, 0], 'Main off, Left Right off'] reward:  -1.2197930765601654\n",
      "action is: [[0, 0], 'Main off, Left Right off'] reward:  0.060652193242481195\n",
      "action is: [[0, 0], 'Main off, Left Right off'] reward:  -1.2127876960900608\n",
      "action is: [[0, 0], 'Main off, Left Right off'] reward:  -1.182166405385317\n",
      "action is: [[0, 0], 'Main off, Left Right off'] reward:  -1.1505083755017154\n",
      "action is: [[0, 0], 'Main off, Left Right off'] reward:  -0.47308649942066267\n",
      "action is: [[0, 0], 'Main off, Left Right off'] reward:  -1.0906676505116764\n",
      "action is: [[0, 0], 'Main off, Left Right off'] reward:  -0.17441656413189435\n",
      "action is: [[0, 0], 'Main off, Left Right off'] reward:  0.3718749622078235\n",
      "action is: [[0, 0], 'Main off, Left Right off'] reward:  -0.08700634661790332\n",
      "action is: [[0, 0], 'Main off, Left Right off'] reward:  -1.0376355924315988\n",
      "action is: [[0, 0], 'Main off, Left Right off'] reward:  -0.09472056823579464\n",
      "action is: [[0, 0], 'Main off, Left Right off'] reward:  -0.12142833073407927\n",
      "action is: [[0, 0], 'Main off, Left Right off'] reward:  -0.05507899379837225\n",
      "action is: [[0, 0], 'Main off, Left Right off'] reward:  -0.9567782548868706\n",
      "action is: [[0, 0], 'Main off, Left Right off'] reward:  -0.4220003912467746\n",
      "action is: [[0, 0], 'Main off, Left Right off'] reward:  -0.8935624519912722\n",
      "action is: [[0, 0], 'Main off, Left Right off'] reward:  -0.8726078250051614\n",
      "action is: [[0, 0], 'Main off, Left Right off'] reward:  0.007715374408502396\n",
      "action is: [[0, 0], 'Main off, Left Right off'] reward:  0.5915278350723667\n",
      "action is: [[0, 0], 'Main off, Left Right off'] reward:  -0.4100943307099726\n",
      "action is: [[0, 0], 'Main off, Left Right off'] reward:  -0.785068445282235\n",
      "action is: [[0, 0], 'Main off, Left Right off'] reward:  0.2240688558504644\n",
      "action is: [[0, 0], 'Main off, Left Right off'] reward:  -0.05906644990440099\n",
      "action is: [[0, 0], 'Main off, Left Right off'] reward:  -0.7691435507294386\n",
      "action is: [[0, 0], 'Main off, Left Right off'] reward:  -0.7773385227546328\n",
      "action is: [[0, 0], 'Main off, Left Right off'] reward:  0.35425378110622885\n",
      "action is: [[0, 0], 'Main off, Left Right off'] reward:  0.5701491853569394\n",
      "action is: [[0, 0], 'Main off, Left Right off'] reward:  0.7247293434360131\n",
      "action is: [[0, 0], 'Main off, Left Right off'] reward:  -1.0094582476609446\n",
      "action is: [[0, 0], 'Main off, Left Right off'] reward:  -1.0494242918207135\n",
      "action is: [[0, 0], 'Main off, Left Right off'] reward:  -1.0985282287788039\n",
      "action is: [[0, 0], 'Main off, Left Right off'] reward:  -1.1579795319580342\n",
      "action is: [[0, 0], 'Main off, Left Right off'] reward:  -1.2290376742441538\n",
      "action is: [[0, 0], 'Main off, Left Right off'] reward:  -1.3130192876124909\n",
      "action is: [[0, 0], 'Main off, Left Right off'] reward:  -1.4112858771672165\n",
      "action is: [[0, 0], 'Main off, Left Right off'] reward:  -1.3659164339606604\n",
      "action is: [[0, 0], 'Main off, Left Right off'] reward:  -1.6297111603868188\n",
      "action is: [[0, 0], 'Main off, Left Right off'] reward:  -0.9462472655824967\n",
      "action is: [[0, 0], 'Main off, Left Right off'] reward:  -0.6588868210635553\n",
      "action is: [[0, 0], 'Main off, Left Right off'] reward:  -1.4314312560232054\n",
      "action is: [[0, 0], 'Main off, Left Right off'] reward:  -1.927245578873385\n",
      "action is: [[0, 0], 'Main off, Left Right off'] reward:  -2.523586081352903\n",
      "action is: [[0, 0], 'Main off, Left Right off'] reward:  -1.5317282237516792\n",
      "action is: [[0, 0], 'Main off, Left Right off'] reward:  -2.019215514997529\n",
      "action is: [[0, 0], 'Main off, Left Right off'] reward:  -2.738703509221364\n",
      "action is: [[0, 0], 'Main off, Left Right off'] reward:  -2.7266814417204386\n",
      "action is: [[0, 0], 'Main off, Left Right off'] reward:  -3.573159925649179\n",
      "action is: [[0, 0], 'Main off, Left Right off'] reward:  6.21465634137752\n",
      "action is: [[0, 0], 'Main off, Left Right off'] reward:  5.176638804041886\n",
      "action is: [[0, 0], 'Main off, Left Right off'] reward:  -100\n",
      "-173.959518340592 119\n",
      "False\n",
      "action is: [[0, 0], 'Main off, Left Right off'] reward:  0.02327576642713325\n",
      "action is: [[0, 0], 'Main off, Left Right off'] reward:  -1.10486359280236\n",
      "action is: [[0, 0], 'Main off, Left Right off'] reward:  -1.1868266716888058\n",
      "action is: [[0, 0], 'Main off, Left Right off'] reward:  -0.5582085114999416\n",
      "action is: [[0, 0], 'Main off, Left Right off'] reward:  -1.157461176835443\n"
     ]
    },
    {
     "name": "stderr",
     "output_type": "stream",
     "text": [
      "/usr/local/lib/python3.6/dist-packages/ipykernel_launcher.py:25: UserWarning: Using a target size (torch.Size([1, 1])) that is different to the input size (torch.Size([28])). This will likely lead to incorrect results due to broadcasting. Please ensure they have the same size.\n"
     ]
    },
    {
     "name": "stdout",
     "output_type": "stream",
     "text": [
      "action is: [[0, 0], 'Main off, Left Right off'] reward:  -0.4182723777047045\n",
      "action is: [[0, 0], 'Main off, Left Right off'] reward:  -1.1240728886815248\n",
      "action is: [[0, 0], 'Main off, Left Right off'] reward:  -1.1828629955230383\n",
      "action is: [[0, 0], 'Main off, Left Right off'] reward:  -1.2321833574934544\n",
      "action is: [[0, 0], 'Main off, Left Right off'] reward:  -0.0671222575792001\n",
      "action is: [[0, 0], 'Main off, Left Right off'] reward:  -0.7021119671323106\n",
      "action is: [[0, 0], 'Main off, Left Right off'] reward:  -1.2073598414249602\n",
      "action is: [[0, 0], 'Main off, Left Right off'] reward:  0.10488962529797732\n",
      "action is: [[0, 0], 'Main off, Left Right off'] reward:  -0.114025042501396\n",
      "action is: [[0, 0], 'Main off, Left Right off'] reward:  -0.08938327257379797\n",
      "action is: [[0, 0], 'Main off, Left Right off'] reward:  -1.1919361365993666\n",
      "action is: [[0, 0], 'Main off, Left Right off'] reward:  -1.2168696841284259\n",
      "action is: [[0, 0], 'Main off, Left Right off'] reward:  -1.2349419851901189\n",
      "action is: [[0, 0], 'Main off, Left Right off'] reward:  0.8476955171205873\n",
      "action is: [[0, 0], 'Main off, Left Right off'] reward:  0.43922412800976074\n",
      "action is: [[0, 0], 'Main off, Left Right off'] reward:  -0.647070927939535\n",
      "action is: [[0, 0], 'Main off, Left Right off'] reward:  -1.2872738394103465\n",
      "action is: [[0, 0], 'Main off, Left Right off'] reward:  -0.4804280969495892\n",
      "action is: [[0, 0], 'Main off, Left Right off'] reward:  -0.36837677373396216\n",
      "action is: [[0, 0], 'Main off, Left Right off'] reward:  -1.3668920778849554\n",
      "action is: [[0, 0], 'Main off, Left Right off'] reward:  -1.3030637204391553\n",
      "action is: [[0, 0], 'Main off, Left Right off'] reward:  0.06213535497859085\n",
      "action is: [[0, 0], 'Main off, Left Right off'] reward:  -1.2731162721823353\n",
      "action is: [[0, 0], 'Main off, Left Right off'] reward:  -0.487467219878954\n",
      "action is: [[0, 0], 'Main off, Left Right off'] reward:  0.11742159530608093\n",
      "action is: [[0, 0], 'Main off, Left Right off'] reward:  -1.148269725654501\n",
      "action is: [[0, 0], 'Main off, Left Right off'] reward:  -1.1334843061518711\n",
      "action is: [[0, 0], 'Main off, Left Right off'] reward:  -0.2603778681970482\n",
      "action is: [[0, 0], 'Main off, Left Right off'] reward:  -1.1050771999410927\n",
      "action is: [[0, 0], 'Main off, Left Right off'] reward:  -1.083302564747953\n",
      "action is: [[0, 0], 'Main off, Left Right off'] reward:  0.784368630397853\n",
      "action is: [[0, 0], 'Main off, Left Right off'] reward:  1.0874838546603087\n",
      "action is: [[0, 0], 'Main off, Left Right off'] reward:  -0.07077745231247262\n",
      "action is: [[0, 0], 'Main off, Left Right off'] reward:  -1.0374217341457097\n",
      "action is: [[0, 0], 'Main off, Left Right off'] reward:  -1.013388876611998\n",
      "action is: [[0, 0], 'Main off, Left Right off'] reward:  0.7724836652110867\n",
      "action is: [[0, 0], 'Main off, Left Right off'] reward:  0.11381855335928323\n",
      "action is: [[0, 0], 'Main off, Left Right off'] reward:  -1.0167460920106919\n",
      "action is: [[0, 0], 'Main off, Left Right off'] reward:  -0.9890372944009869\n",
      "action is: [[0, 0], 'Main off, Left Right off'] reward:  -0.9600501786216\n",
      "action is: [[0, 0], 'Main off, Left Right off'] reward:  -0.9299370189944227\n",
      "action is: [[0, 0], 'Main off, Left Right off'] reward:  0.2026143521670008\n",
      "action is: [[0, 0], 'Main off, Left Right off'] reward:  -0.8886945725814712\n",
      "action is: [[0, 0], 'Main off, Left Right off'] reward:  1.7519381351070193\n",
      "action is: [[0, 0], 'Main off, Left Right off'] reward:  -0.9083725555255455\n",
      "action is: [[0, 0], 'Main off, Left Right off'] reward:  1.2983265757757465\n",
      "action is: [[0, 0], 'Main off, Left Right off'] reward:  -0.9083285195477515\n",
      "action is: [[0, 0], 'Main off, Left Right off'] reward:  1.0703856159079521\n",
      "action is: [[0, 0], 'Main off, Left Right off'] reward:  -0.857851123138289\n",
      "action is: [[0, 0], 'Main off, Left Right off'] reward:  0.729979608014304\n",
      "action is: [[0, 0], 'Main off, Left Right off'] reward:  -0.7972541625071585\n",
      "action is: [[0, 0], 'Main off, Left Right off'] reward:  -0.7740194073766702\n",
      "action is: [[0, 0], 'Main off, Left Right off'] reward:  1.0478567597842698\n",
      "action is: [[0, 0], 'Main off, Left Right off'] reward:  0.32619284908466284\n",
      "action is: [[0, 0], 'Main off, Left Right off'] reward:  -0.7898715603779181\n",
      "action is: [[0, 0], 'Main off, Left Right off'] reward:  1.5517908234006712\n",
      "action is: [[0, 0], 'Main off, Left Right off'] reward:  1.0551781375366374\n",
      "action is: [[0, 0], 'Main off, Left Right off'] reward:  0.8604348943478499\n",
      "action is: [[0, 0], 'Main off, Left Right off'] reward:  -0.9019430179016013\n",
      "action is: [[0, 0], 'Main off, Left Right off'] reward:  0.7541084632003561\n",
      "action is: [[0, 0], 'Main off, Left Right off'] reward:  0.19273609754959012\n",
      "action is: [[0, 0], 'Main off, Left Right off'] reward:  -0.9372064279443748\n",
      "action is: [[0, 0], 'Main off, Left Right off'] reward:  -0.11129929669901911\n",
      "action is: [[0, 0], 'Main off, Left Right off'] reward:  1.1324389566693867\n",
      "action is: [[0, 0], 'Main off, Left Right off'] reward:  0.42350040187938587\n",
      "action is: [[0, 0], 'Main off, Left Right off'] reward:  -1.1251900617394597\n",
      "action is: [[0, 0], 'Main off, Left Right off'] reward:  -0.03580120626655797\n",
      "action is: [[0, 0], 'Main off, Left Right off'] reward:  -1.2184244758963416\n",
      "action is: [[0, 0], 'Main off, Left Right off'] reward:  -1.0124475951050442\n",
      "action is: [[0, 0], 'Main off, Left Right off'] reward:  -1.3337967493951624\n",
      "action is: [[0, 0], 'Main off, Left Right off'] reward:  -1.4255785519748656\n",
      "action is: [[0, 0], 'Main off, Left Right off'] reward:  -1.5333455487013055\n",
      "action is: [[0, 0], 'Main off, Left Right off'] reward:  0.3815260129617002\n",
      "action is: [[0, 0], 'Main off, Left Right off'] reward:  -0.37359949359083655\n",
      "action is: [[0, 0], 'Main off, Left Right off'] reward:  -0.3981233889601185\n",
      "action is: [[0, 0], 'Main off, Left Right off'] reward:  -2.217769744220135\n",
      "action is: [[0, 0], 'Main off, Left Right off'] reward:  -2.396966439409397\n",
      "action is: [[0, 0], 'Main off, Left Right off'] reward:  35.567875842008874\n",
      "action is: [[0, 0], 'Main off, Left Right off'] reward:  0.45329155455345926\n",
      "action is: [[0, 0], 'Main off, Left Right off'] reward:  52.21676691325524\n",
      "action is: [[0, 0], 'Main off, Left Right off'] reward:  -100\n",
      "-47.32620621445428 86\n",
      "False\n",
      "action is: [[0, 0], 'Main off, Left Right off'] reward:  -1.1418605043008085\n",
      "action is: [[0, 0], 'Main off, Left Right off'] reward:  -0.13595914013213245\n",
      "action is: [[0, 0], 'Main off, Left Right off'] reward:  0.589011392053294\n",
      "action is: [[0, 0], 'Main off, Left Right off'] reward:  -0.0880611618384364\n",
      "action is: [[0, 0], 'Main off, Left Right off'] "
     ]
    },
    {
     "name": "stderr",
     "output_type": "stream",
     "text": [
      "/usr/local/lib/python3.6/dist-packages/ipykernel_launcher.py:25: UserWarning: Using a target size (torch.Size([1, 1])) that is different to the input size (torch.Size([28])). This will likely lead to incorrect results due to broadcasting. Please ensure they have the same size.\n"
     ]
    },
    {
     "name": "stdout",
     "output_type": "stream",
     "text": [
      "reward:  -0.42703255183047306\n",
      "action is: [[0, 0], 'Main off, Left Right off'] reward:  -1.3985519456041402\n",
      "action is: [[0, 0], 'Main off, Left Right off'] reward:  -0.06049308997947947\n",
      "action is: [[0, 0], 'Main off, Left Right off'] reward:  -1.4739810198766747\n",
      "action is: [[0, 0], 'Main off, Left Right off'] reward:  -0.46807875646641717\n",
      "action is: [[0, 0], 'Main off, Left Right off'] reward:  -1.4570138464441698\n",
      "action is: [[0, 0], 'Main off, Left Right off'] reward:  -1.491116299401824\n",
      "action is: [[0, 0], 'Main off, Left Right off'] reward:  -1.5151853141059632\n",
      "action is: [[0, 0], 'Main off, Left Right off'] reward:  -1.529868482606986\n",
      "action is: [[0, 0], 'Main off, Left Right off'] reward:  -0.7608969761801291\n",
      "action is: [[0, 0], 'Main off, Left Right off'] reward:  -0.4565925682501699\n",
      "action is: [[0, 0], 'Main off, Left Right off'] reward:  -1.5133674020794672\n",
      "action is: [[0, 0], 'Main off, Left Right off'] reward:  -1.5081734089286556\n",
      "action is: [[0, 0], 'Main off, Left Right off'] reward:  -1.4973874337998154\n",
      "action is: [[0, 0], 'Main off, Left Right off'] reward:  0.4385886010085074\n",
      "action is: [[0, 0], 'Main off, Left Right off'] reward:  -1.4375754019959572\n",
      "action is: [[0, 0], 'Main off, Left Right off'] reward:  -1.418930960161191\n",
      "action is: [[0, 0], 'Main off, Left Right off'] reward:  -1.3968291304159663\n",
      "action is: [[0, 0], 'Main off, Left Right off'] reward:  0.29276035870742023\n",
      "action is: [[0, 0], 'Main off, Left Right off'] reward:  0.16373018138475573\n",
      "action is: [[0, 0], 'Main off, Left Right off'] reward:  -1.4430749689341837\n",
      "action is: [[0, 0], 'Main off, Left Right off'] reward:  -1.3409425526511143\n",
      "action is: [[0, 0], 'Main off, Left Right off'] reward:  -1.3089790171628408\n",
      "action is: [[0, 0], 'Main off, Left Right off'] reward:  -0.24379926229513557\n",
      "action is: [[0, 0], 'Main off, Left Right off'] reward:  -1.2358510537051757\n",
      "action is: [[0, 0], 'Main off, Left Right off'] reward:  -1.1995057043538395\n",
      "action is: [[0, 0], 'Main off, Left Right off'] reward:  -1.1614868659230524\n",
      "action is: [[0, 0], 'Main off, Left Right off'] reward:  -1.1218957512818406\n",
      "action is: [[0, 0], 'Main off, Left Right off'] reward:  1.539357399359608\n",
      "action is: [[0, 0], 'Main off, Left Right off'] reward:  -1.0675498807589463\n",
      "action is: [[0, 0], 'Main off, Left Right off'] reward:  -1.0270113737487918\n",
      "action is: [[0, 0], 'Main off, Left Right off'] reward:  -0.9853877094974166\n",
      "action is: [[0, 0], 'Main off, Left Right off'] reward:  -0.02924249925020489\n",
      "action is: [[0, 0], 'Main off, Left Right off'] reward:  0.8513670756575664\n",
      "action is: [[0, 0], 'Main off, Left Right off'] reward:  0.8452906035435603\n",
      "action is: [[0, 0], 'Main off, Left Right off'] reward:  -0.9486706068927333\n",
      "action is: [[0, 0], 'Main off, Left Right off'] reward:  -0.9058178344061503\n",
      "action is: [[0, 0], 'Main off, Left Right off'] reward:  -0.8625504516124352\n",
      "action is: [[0, 0], 'Main off, Left Right off'] reward:  -0.014398671436333638\n",
      "action is: [[0, 0], 'Main off, Left Right off'] reward:  -0.7869737777374155\n",
      "action is: [[0, 0], 'Main off, Left Right off'] reward:  -0.7437731790686541\n",
      "action is: [[0, 0], 'Main off, Left Right off'] reward:  1.3225632556489928\n",
      "action is: [[0, 0], 'Main off, Left Right off'] reward:  1.2009861328690477\n",
      "action is: [[0, 0], 'Main off, Left Right off'] reward:  2.1203109083937193\n",
      "action is: [[0, 0], 'Main off, Left Right off'] reward:  -0.6890518743717564\n",
      "action is: [[0, 0], 'Main off, Left Right off'] reward:  1.8086003739382988\n",
      "action is: [[0, 0], 'Main off, Left Right off'] reward:  0.2959798251713778\n",
      "action is: [[0, 0], 'Main off, Left Right off'] reward:  -0.7080094139282096\n",
      "action is: [[0, 0], 'Main off, Left Right off'] reward:  1.1655924061142628\n",
      "action is: [[0, 0], 'Main off, Left Right off'] reward:  -0.6755719157941655\n",
      "action is: [[0, 0], 'Main off, Left Right off'] reward:  0.4752724334336961\n",
      "action is: [[0, 0], 'Main off, Left Right off'] reward:  -0.6540850663461129\n",
      "action is: [[0, 0], 'Main off, Left Right off'] reward:  -0.6284341322635214\n",
      "action is: [[0, 0], 'Main off, Left Right off'] reward:  -0.6062654017133013\n",
      "action is: [[0, 0], 'Main off, Left Right off'] reward:  1.9665152650165907\n",
      "action is: [[0, 0], 'Main off, Left Right off'] reward:  -0.6517691140240345\n",
      "action is: [[0, 0], 'Main off, Left Right off'] reward:  -0.6446829389867048\n",
      "action is: [[0, 0], 'Main off, Left Right off'] reward:  -0.6451219330088804\n",
      "action is: [[0, 0], 'Main off, Left Right off'] reward:  0.6021411468616918\n",
      "action is: [[0, 0], 'Main off, Left Right off'] reward:  -0.7015706315368391\n",
      "action is: [[0, 0], 'Main off, Left Right off'] reward:  0.6075677238855576\n",
      "action is: [[0, 0], 'Main off, Left Right off'] reward:  -0.8128779674580358\n",
      "action is: [[0, 0], 'Main off, Left Right off'] reward:  0.29816958761697376\n",
      "action is: [[0, 0], 'Main off, Left Right off'] reward:  1.44410869010498\n",
      "action is: [[0, 0], 'Main off, Left Right off'] reward:  0.0763914427425732\n",
      "action is: [[0, 0], 'Main off, Left Right off'] reward:  -1.275727389299675\n",
      "action is: [[0, 0], 'Main off, Left Right off'] reward:  -1.4597054650911332\n",
      "action is: [[0, 0], 'Main off, Left Right off'] reward:  -1.6844697245146278\n",
      "action is: [[0, 0], 'Main off, Left Right off'] reward:  -1.952541052678555\n",
      "action is: [[0, 0], 'Main off, Left Right off'] reward:  -0.5779932290511625\n",
      "action is: [[0, 0], 'Main off, Left Right off'] reward:  8.874579982177057\n",
      "action is: [[0, 0], 'Main off, Left Right off'] reward:  8.78362141075658\n",
      "action is: [[0, 0], 'Main off, Left Right off'] reward:  -100\n",
      "-116.20923760873572 77\n",
      "False\n",
      "action is: [[0, 0], 'Main off, Left Right off'] reward:  0.14154566006949382\n",
      "action is: [[0, 0], 'Main off, Left Right off'] reward:  0.07265756086349029\n",
      "action is: [[0, 0], 'Main off, Left Right off'] reward:  1.4981755251957054\n",
      "action is: [[0, 0], 'Main off, Left Right off'] reward:  1.3352322392571239\n",
      "action is: [[0, 0], 'Main off, Left Right off'] reward:  -0.5845215237754019\n"
     ]
    },
    {
     "name": "stderr",
     "output_type": "stream",
     "text": [
      "/usr/local/lib/python3.6/dist-packages/ipykernel_launcher.py:25: UserWarning: Using a target size (torch.Size([1, 1])) that is different to the input size (torch.Size([28])). This will likely lead to incorrect results due to broadcasting. Please ensure they have the same size.\n"
     ]
    },
    {
     "name": "stdout",
     "output_type": "stream",
     "text": [
      "action is: [[0, 0], 'Main off, Left Right off'] reward:  0.08317310288995827\n",
      "action is: [[0, 0], 'Main off, Left Right off'] reward:  1.0146124888222232\n",
      "action is: [[0, 0], 'Main off, Left Right off'] reward:  0.6636965741882932\n",
      "action is: [[0, 0], 'Main off, Left Right off'] reward:  0.2335178760354779\n",
      "action is: [[0, 0], 'Main off, Left Right off'] reward:  -0.23675306947288277\n",
      "action is: [[0, 0], 'Main off, Left Right off'] reward:  -0.1386482634562924\n",
      "action is: [[0, 0], 'Main off, Left Right off'] reward:  -0.7340693426666292\n",
      "action is: [[0, 0], 'Main off, Left Right off'] reward:  0.4285895321631358\n",
      "action is: [[0, 0], 'Main off, Left Right off'] reward:  -0.6951164871925926\n",
      "action is: [[0, 0], 'Main off, Left Right off'] reward:  -0.9410691465050774\n",
      "action is: [[0, 0], 'Main off, Left Right off'] reward:  -1.025923760836406\n",
      "action is: [[0, 0], 'Main off, Left Right off'] reward:  -1.3157546651125642\n",
      "action is: [[0, 0], 'Main off, Left Right off'] reward:  -1.5258875916395596\n",
      "action is: [[0, 0], 'Main off, Left Right off'] reward:  -1.1678224733294313\n",
      "action is: [[0, 0], 'Main off, Left Right off'] reward:  -1.6024312523049957\n",
      "action is: [[0, 0], 'Main off, Left Right off'] reward:  -1.6876209898106538\n",
      "action is: [[0, 0], 'Main off, Left Right off'] reward:  -1.7390743780692333\n",
      "action is: [[0, 0], 'Main off, Left Right off'] reward:  -1.7651727635410737\n",
      "action is: [[0, 0], 'Main off, Left Right off'] reward:  0.048496334317917444\n",
      "action is: [[0, 0], 'Main off, Left Right off'] reward:  -1.8097547757622579\n",
      "action is: [[0, 0], 'Main off, Left Right off'] reward:  -0.13153387084672089\n",
      "action is: [[0, 0], 'Main off, Left Right off'] reward:  1.023490252864343\n",
      "action is: [[0, 0], 'Main off, Left Right off'] reward:  0.22765180727529355\n",
      "action is: [[0, 0], 'Main off, Left Right off'] reward:  -1.6859783809923385\n",
      "action is: [[0, 0], 'Main off, Left Right off'] reward:  -1.6741373166982783\n",
      "action is: [[0, 0], 'Main off, Left Right off'] reward:  -0.39161876345618224\n",
      "action is: [[0, 0], 'Main off, Left Right off'] reward:  -1.6224386329956815\n",
      "action is: [[0, 0], 'Main off, Left Right off'] reward:  -1.5938878968195809\n",
      "action is: [[0, 0], 'Main off, Left Right off'] reward:  0.2228848945300797\n",
      "action is: [[0, 0], 'Main off, Left Right off'] reward:  -1.5839623821598536\n",
      "action is: [[0, 0], 'Main off, Left Right off'] reward:  -0.38224362214046437\n",
      "action is: [[0, 0], 'Main off, Left Right off'] reward:  -0.13558394539161325\n",
      "action is: [[0, 0], 'Main off, Left Right off'] reward:  -1.5942096722184544\n",
      "action is: [[0, 0], 'Main off, Left Right off'] reward:  1.3156971082905442\n",
      "action is: [[0, 0], 'Main off, Left Right off'] reward:  -0.25732156781279514\n",
      "action is: [[0, 0], 'Main off, Left Right off'] reward:  -1.5980610406082576\n",
      "action is: [[0, 0], 'Main off, Left Right off'] reward:  -0.10287653616647957\n",
      "action is: [[0, 0], 'Main off, Left Right off'] reward:  -0.22120879399074625\n",
      "action is: [[0, 0], 'Main off, Left Right off'] reward:  1.6853027479262892\n",
      "action is: [[0, 0], 'Main off, Left Right off'] reward:  -1.4900036405861101\n",
      "action is: [[0, 0], 'Main off, Left Right off'] reward:  -1.4391917235053029\n",
      "action is: [[0, 0], 'Main off, Left Right off'] reward:  1.5817164889982394\n",
      "action is: [[0, 0], 'Main off, Left Right off'] reward:  -1.4167880086326932\n",
      "action is: [[0, 0], 'Main off, Left Right off'] reward:  1.2186323675927895\n",
      "action is: [[0, 0], 'Main off, Left Right off'] reward:  -1.3699886920990707\n",
      "action is: [[0, 0], 'Main off, Left Right off'] reward:  1.6227014562851196\n",
      "action is: [[0, 0], 'Main off, Left Right off'] reward:  0.03838212520057596\n",
      "action is: [[0, 0], 'Main off, Left Right off'] reward:  0.41934489080276194\n",
      "action is: [[0, 0], 'Main off, Left Right off'] reward:  -1.2828206539813891\n",
      "action is: [[0, 0], 'Main off, Left Right off'] reward:  0.5600630588219702\n",
      "action is: [[0, 0], 'Main off, Left Right off'] reward:  0.9516917877683284\n",
      "action is: [[0, 0], 'Main off, Left Right off'] reward:  -1.1380812833401706\n",
      "action is: [[0, 0], 'Main off, Left Right off'] reward:  1.6311253941963912\n",
      "action is: [[0, 0], 'Main off, Left Right off'] reward:  -1.083206420795392\n",
      "action is: [[0, 0], 'Main off, Left Right off'] reward:  -1.0302963319944638\n",
      "action is: [[0, 0], 'Main off, Left Right off'] reward:  -0.976905260206081\n",
      "action is: [[0, 0], 'Main off, Left Right off'] reward:  -0.9230965116044558\n",
      "action is: [[0, 0], 'Main off, Left Right off'] reward:  -0.8689901644906968\n",
      "action is: [[0, 0], 'Main off, Left Right off'] reward:  1.9806070630898147\n",
      "action is: [[0, 0], 'Main off, Left Right off'] reward:  -0.8148864365118982\n",
      "action is: [[0, 0], 'Main off, Left Right off'] reward:  1.152842243158375\n",
      "action is: [[0, 0], 'Main off, Left Right off'] reward:  -0.7209167410285602\n",
      "action is: [[0, 0], 'Main off, Left Right off'] reward:  1.1265520515798015\n",
      "action is: [[0, 0], 'Main off, Left Right off'] reward:  -0.6308532318770403\n",
      "action is: [[0, 0], 'Main off, Left Right off'] reward:  -0.5774699823650735\n",
      "action is: [[0, 0], 'Main off, Left Right off'] reward:  0.8671287520606825\n",
      "action is: [[0, 0], 'Main off, Left Right off'] reward:  -0.5320769522961086\n",
      "action is: [[0, 0], 'Main off, Left Right off'] reward:  2.2476233476847143\n",
      "action is: [[0, 0], 'Main off, Left Right off'] reward:  -0.4532433590774758\n",
      "action is: [[0, 0], 'Main off, Left Right off'] reward:  -0.4012563770207578\n",
      "action is: [[0, 0], 'Main off, Left Right off'] reward:  2.1368379469506804\n",
      "action is: [[0, 0], 'Main off, Left Right off'] reward:  2.113634103665447\n",
      "action is: [[0, 0], 'Main off, Left Right off'] reward:  1.6647180316877894\n",
      "action is: [[0, 0], 'Main off, Left Right off'] reward:  1.252664621889369\n",
      "action is: [[0, 0], 'Main off, Left Right off'] reward:  1.8023845285134485\n",
      "action is: [[0, 0], 'Main off, Left Right off'] reward:  2.373324356286173\n",
      "action is: [[0, 0], 'Main off, Left Right off'] reward:  -0.3222398313246799\n",
      "action is: [[0, 0], 'Main off, Left Right off'] reward:  1.290604530260947\n",
      "action is: [[0, 0], 'Main off, Left Right off'] reward:  -0.29218536728589584\n",
      "action is: [[0, 0], 'Main off, Left Right off'] reward:  1.7256773073396972\n",
      "action is: [[0, 0], 'Main off, Left Right off'] reward:  -0.26137206663693746\n",
      "action is: [[0, 0], 'Main off, Left Right off'] reward:  -0.22838524321466025\n",
      "action is: [[0, 0], 'Main off, Left Right off'] reward:  -0.20026260722443112\n",
      "action is: [[0, 0], 'Main off, Left Right off'] reward:  2.0279715503826083\n",
      "action is: [[0, 0], 'Main off, Left Right off'] reward:  -0.21504707228666575\n",
      "action is: [[0, 0], 'Main off, Left Right off'] reward:  -0.2105162967861247\n",
      "action is: [[0, 0], 'Main off, Left Right off'] reward:  -0.21971341302011638\n",
      "action is: [[0, 0], 'Main off, Left Right off'] reward:  2.8398138322552997\n",
      "action is: [[0, 0], 'Main off, Left Right off'] reward:  -0.37799283232502034\n",
      "action is: [[0, 0], 'Main off, Left Right off'] reward:  -0.45749093710301736\n",
      "action is: [[0, 0], 'Main off, Left Right off'] reward:  1.6980392660468682\n",
      "action is: [[0, 0], 'Main off, Left Right off'] reward:  -0.8132704241967872\n",
      "action is: [[0, 0], 'Main off, Left Right off'] reward:  1.4187181448354522\n",
      "action is: [[0, 0], 'Main off, Left Right off'] reward:  2.05976721016948\n",
      "action is: [[0, 0], 'Main off, Left Right off'] reward:  0.6081795000086345\n",
      "action is: [[0, 0], 'Main off, Left Right off'] reward:  0.7143354198037002\n",
      "action is: [[0, 0], 'Main off, Left Right off'] reward:  17.226620821618212\n",
      "action is: [[0, 0], 'Main off, Left Right off'] reward:  -100\n",
      "-82.34680486494683 103\n",
      "False\n",
      "action is: [[0, 0], 'Main off, Left Right off'] reward:  -1.6468612558121776\n",
      "action is: [[0, 0], 'Main off, Left Right off'] reward:  0.3634961468571021\n",
      "action is: [[0, 0], 'Main off, Left Right off'] reward:  0.360352563603044\n",
      "action is: [[0, 0], 'Main off, Left Right off'] reward:  -1.0074350271954018\n",
      "action is: [[0, 0], 'Main off, Left Right off'] reward:  -3.0241702483510267\n"
     ]
    },
    {
     "name": "stderr",
     "output_type": "stream",
     "text": [
      "/usr/local/lib/python3.6/dist-packages/ipykernel_launcher.py:25: UserWarning: Using a target size (torch.Size([1, 1])) that is different to the input size (torch.Size([28])). This will likely lead to incorrect results due to broadcasting. Please ensure they have the same size.\n"
     ]
    },
    {
     "name": "stdout",
     "output_type": "stream",
     "text": [
      "action is: [[0, 0], 'Main off, Left Right off'] reward:  0.35190149651532465\n",
      "action is: [[0, 0], 'Main off, Left Right off'] reward:  -1.9953835704809308\n",
      "action is: [[0, 0], 'Main off, Left Right off'] reward:  -1.8727456753999605\n",
      "action is: [[0, 0], 'Main off, Left Right off'] reward:  -1.1347819636732084\n",
      "action is: [[0, 0], 'Main off, Left Right off'] reward:  0.34970160063406297\n",
      "action is: [[0, 0], 'Main off, Left Right off'] reward:  0.32319702893414615\n",
      "action is: [[0, 0], 'Main off, Left Right off'] reward:  0.2901431632124343\n",
      "action is: [[0, 0], 'Main off, Left Right off'] reward:  -0.7650093091264978\n",
      "action is: [[0, 0], 'Main off, Left Right off'] reward:  -2.3471765812224987\n",
      "action is: [[0, 0], 'Main off, Left Right off'] reward:  0.24721905512737408\n",
      "action is: [[0, 0], 'Main off, Left Right off'] reward:  0.1984691031883301\n",
      "action is: [[0, 0], 'Main off, Left Right off'] reward:  -1.4105937598758487\n",
      "action is: [[0, 0], 'Main off, Left Right off'] reward:  -0.9346654654418274\n",
      "action is: [[0, 0], 'Main off, Left Right off'] reward:  0.11416623615235721\n",
      "action is: [[0, 0], 'Main off, Left Right off'] reward:  -1.3212298434375669\n",
      "action is: [[0, 0], 'Main off, Left Right off'] reward:  0.04482203533021334\n",
      "action is: [[0, 0], 'Main off, Left Right off'] reward:  -1.1578582646115307\n",
      "action is: [[0, 0], 'Main off, Left Right off'] reward:  -2.188289497855891\n",
      "action is: [[0, 0], 'Main off, Left Right off'] reward:  -0.01672593749134421\n",
      "action is: [[0, 0], 'Main off, Left Right off'] reward:  -2.0098723277110877\n",
      "action is: [[0, 0], 'Main off, Left Right off'] reward:  -0.9593333568303194\n",
      "action is: [[0, 0], 'Main off, Left Right off'] reward:  -0.38890540160304\n",
      "action is: [[0, 0], 'Main off, Left Right off'] reward:  -1.4131117406911415\n",
      "action is: [[0, 0], 'Main off, Left Right off'] reward:  -1.383147853988828\n",
      "action is: [[0, 0], 'Main off, Left Right off'] reward:  -0.15539834473318592\n",
      "action is: [[0, 0], 'Main off, Left Right off'] reward:  -0.2271592081674214\n",
      "action is: [[0, 0], 'Main off, Left Right off'] reward:  -2.0616122916739186\n",
      "action is: [[0, 0], 'Main off, Left Right off'] reward:  -0.26882928171730214\n",
      "action is: [[0, 0], 'Main off, Left Right off'] reward:  -1.8738637489864005\n",
      "action is: [[0, 0], 'Main off, Left Right off'] reward:  -0.8749927951238817\n",
      "action is: [[0, 0], 'Main off, Left Right off'] reward:  -1.7470256427746904\n",
      "action is: [[0, 0], 'Main off, Left Right off'] reward:  -0.30977554664448803\n",
      "action is: [[0, 0], 'Main off, Left Right off'] reward:  -0.37761904134168844\n",
      "action is: [[0, 0], 'Main off, Left Right off'] reward:  -0.44568094368125344\n",
      "action is: [[0, 0], 'Main off, Left Right off'] reward:  -0.5609317113283169\n",
      "action is: [[0, 0], 'Main off, Left Right off'] reward:  -0.5350296359479216\n",
      "action is: [[0, 0], 'Main off, Left Right off'] reward:  -0.6015789927811284\n",
      "action is: [[0, 0], 'Main off, Left Right off'] reward:  -0.666229301944611\n",
      "action is: [[0, 0], 'Main off, Left Right off'] reward:  -1.0187090546858826\n",
      "action is: [[0, 0], 'Main off, Left Right off'] reward:  -0.7364562026447459\n",
      "action is: [[0, 0], 'Main off, Left Right off'] reward:  -1.6170887606400641\n",
      "action is: [[0, 0], 'Main off, Left Right off'] reward:  -0.7679834452823684\n",
      "action is: [[0, 0], 'Main off, Left Right off'] reward:  -0.9594864984398044\n",
      "action is: [[0, 0], 'Main off, Left Right off'] reward:  -0.8083232741868471\n",
      "action is: [[0, 0], 'Main off, Left Right off'] reward:  -0.8554736239749161\n",
      "action is: [[0, 0], 'Main off, Left Right off'] reward:  -0.5944411104039716\n",
      "action is: [[0, 0], 'Main off, Left Right off'] reward:  -1.64805070948604\n",
      "action is: [[0, 0], 'Main off, Left Right off'] reward:  -0.8469893174184051\n",
      "action is: [[0, 0], 'Main off, Left Right off'] reward:  -0.5106394733762102\n",
      "action is: [[0, 0], 'Main off, Left Right off'] reward:  -0.6098374408749067\n",
      "action is: [[0, 0], 'Main off, Left Right off'] reward:  -0.7451763915601475\n",
      "action is: [[0, 0], 'Main off, Left Right off'] reward:  -0.9783948532656268\n",
      "action is: [[0, 0], 'Main off, Left Right off'] reward:  -1.009705525437198\n",
      "action is: [[0, 0], 'Main off, Left Right off'] reward:  -1.037082231100726\n",
      "action is: [[0, 0], 'Main off, Left Right off'] reward:  -1.0604737974542218\n",
      "action is: [[0, 0], 'Main off, Left Right off'] reward:  -1.6100786230738493\n",
      "action is: [[0, 0], 'Main off, Left Right off'] reward:  -1.034544609186156\n",
      "action is: [[0, 0], 'Main off, Left Right off'] reward:  -0.9998686020227524\n",
      "action is: [[0, 0], 'Main off, Left Right off'] reward:  -1.0204627907392592\n",
      "action is: [[0, 0], 'Main off, Left Right off'] reward:  -0.21436069840830213\n",
      "action is: [[0, 0], 'Main off, Left Right off'] reward:  -1.0828429481344415\n",
      "action is: [[0, 0], 'Main off, Left Right off'] reward:  -1.1791985376108642\n",
      "action is: [[0, 0], 'Main off, Left Right off'] reward:  -1.4549235516275985\n",
      "action is: [[0, 0], 'Main off, Left Right off'] reward:  -0.4318851487904226\n",
      "action is: [[0, 0], 'Main off, Left Right off'] reward:  -0.7360601621503292\n",
      "action is: [[0, 0], 'Main off, Left Right off'] reward:  -0.999769782659996\n",
      "action is: [[0, 0], 'Main off, Left Right off'] reward:  -1.0024660752017098\n",
      "action is: [[0, 0], 'Main off, Left Right off'] reward:  -0.12841183578273102\n",
      "action is: [[0, 0], 'Main off, Left Right off'] reward:  -1.0363896643425505\n",
      "action is: [[0, 0], 'Main off, Left Right off'] reward:  -0.9376361765153092\n",
      "action is: [[0, 0], 'Main off, Left Right off'] reward:  -0.49700382433431967\n",
      "action is: [[0, 0], 'Main off, Left Right off'] reward:  -1.0111426022270393\n",
      "action is: [[0, 0], 'Main off, Left Right off'] reward:  -1.0079444041454053\n",
      "action is: [[0, 0], 'Main off, Left Right off'] reward:  -0.32477405440279195\n",
      "action is: [[0, 0], 'Main off, Left Right off'] reward:  -1.3602642294585507\n",
      "action is: [[0, 0], 'Main off, Left Right off'] reward:  -0.9679833132598787\n",
      "action is: [[0, 0], 'Main off, Left Right off'] reward:  -1.1887552874343215\n",
      "action is: [[0, 0], 'Main off, Left Right off'] reward:  -0.10056723781376603\n",
      "action is: [[0, 0], 'Main off, Left Right off'] reward:  -0.4755426747625734\n",
      "action is: [[0, 0], 'Main off, Left Right off'] reward:  -0.9608368415881614\n",
      "action is: [[0, 0], 'Main off, Left Right off'] reward:  -0.9558313056186876\n",
      "action is: [[0, 0], 'Main off, Left Right off'] reward:  -0.8955593712130394\n",
      "action is: [[0, 0], 'Main off, Left Right off'] reward:  -0.7272480940883724\n",
      "action is: [[0, 0], 'Main off, Left Right off'] reward:  -0.39148335080368496\n",
      "action is: [[0, 0], 'Main off, Left Right off'] reward:  -0.9235148895486986\n",
      "action is: [[0, 0], 'Main off, Left Right off'] reward:  -0.5784692756178516\n",
      "action is: [[0, 0], 'Main off, Left Right off'] reward:  0.01458658402273158\n",
      "action is: [[0, 0], 'Main off, Left Right off'] reward:  -0.9715335136452836\n",
      "action is: [[0, 0], 'Main off, Left Right off'] reward:  -0.9715830669871934\n",
      "action is: [[0, 0], 'Main off, Left Right off'] reward:  -0.9721254467526137\n",
      "action is: [[0, 0], 'Main off, Left Right off'] reward:  -0.743616797198331\n",
      "action is: [[0, 0], 'Main off, Left Right off'] reward:  -0.9852038721195981\n",
      "action is: [[0, 0], 'Main off, Left Right off'] reward:  -0.4285411555159385\n",
      "action is: [[0, 0], 'Main off, Left Right off'] reward:  -0.6757524204544779\n",
      "action is: [[0, 0], 'Main off, Left Right off'] reward:  -1.0205082575706683\n",
      "action is: [[0, 0], 'Main off, Left Right off'] reward:  -1.1257951403248398\n",
      "action is: [[0, 0], 'Main off, Left Right off'] reward:  -0.5805250336439599\n",
      "action is: [[0, 0], 'Main off, Left Right off'] reward:  -0.8902064046910823\n",
      "action is: [[0, 0], 'Main off, Left Right off'] reward:  -1.426330304598889\n",
      "action is: [[0, 0], 'Main off, Left Right off'] reward:  -1.0488183961496702\n",
      "action is: [[0, 0], 'Main off, Left Right off'] reward:  -1.1599208847443834\n",
      "action is: [[0, 0], 'Main off, Left Right off'] reward:  -1.078621053862264\n",
      "action is: [[0, 0], 'Main off, Left Right off'] reward:  0.03737972250875146\n",
      "action is: [[0, 0], 'Main off, Left Right off'] reward:  0.022196447184717277\n",
      "action is: [[0, 0], 'Main off, Left Right off'] reward:  -1.2961735247286583\n",
      "action is: [[0, 0], 'Main off, Left Right off'] reward:  -1.337426231602194\n",
      "action is: [[0, 0], 'Main off, Left Right off'] reward:  -1.3828083996592113\n",
      "action is: [[0, 0], 'Main off, Left Right off'] reward:  -0.60374197807065\n",
      "action is: [[0, 0], 'Main off, Left Right off'] reward:  -1.0600247335984592\n",
      "action is: [[0, 0], 'Main off, Left Right off'] reward:  -1.313083719392182\n",
      "action is: [[0, 0], 'Main off, Left Right off'] reward:  -1.6537863501358856\n",
      "action is: [[0, 0], 'Main off, Left Right off'] reward:  -1.6789213582237608\n",
      "action is: [[0, 0], 'Main off, Left Right off'] reward:  -1.7999828488385106\n",
      "action is: [[0, 0], 'Main off, Left Right off'] reward:  -1.7002858738949045\n",
      "action is: [[0, 0], 'Main off, Left Right off'] reward:  -1.9453102535779294\n",
      "action is: [[0, 0], 'Main off, Left Right off'] reward:  -2.0300798298691234\n",
      "action is: [[0, 0], 'Main off, Left Right off'] reward:  -2.1201256909411654\n",
      "action is: [[0, 0], 'Main off, Left Right off'] reward:  -2.3374688434242556\n",
      "action is: [[0, 0], 'Main off, Left Right off'] reward:  -2.3008799293728543\n",
      "action is: [[0, 0], 'Main off, Left Right off'] reward:  -2.405684216060365\n",
      "action is: [[0, 0], 'Main off, Left Right off'] reward:  -2.515483246548513\n",
      "action is: [[0, 0], 'Main off, Left Right off'] reward:  -2.6301087140871005\n",
      "action is: [[0, 0], 'Main off, Left Right off'] reward:  -1.539815480560685\n",
      "action is: [[0, 0], 'Main off, Left Right off'] reward:  -2.0632388016659773\n",
      "action is: [[0, 0], 'Main off, Left Right off'] reward:  -3.2262042103021713\n",
      "action is: [[0, 0], 'Main off, Left Right off'] reward:  -3.1318139541339747\n",
      "action is: [[0, 0], 'Main off, Left Right off'] reward:  -2.64408456957018\n",
      "action is: [[0, 0], 'Main off, Left Right off'] reward:  -3.3777550588922054\n",
      "action is: [[0, 0], 'Main off, Left Right off'] reward:  -2.8758850043219466\n",
      "action is: [[0, 0], 'Main off, Left Right off'] reward:  -3.748681001965167\n",
      "action is: [[0, 0], 'Main off, Left Right off'] reward:  -100\n",
      "-245.80345962886844 136\n",
      "False\n",
      "action is: [[0, 0], 'Main off, Left Right off'] reward:  -1.1970732265842514\n",
      "action is: [[0, 0], 'Main off, Left Right off'] reward:  0.21167869925185984\n",
      "action is: [[0, 0], 'Main off, Left Right off'] reward:  0.2452481019999709\n",
      "action is: [[0, 0], 'Main off, Left Right off'] reward:  -0.6190906929805748\n",
      "action is: [[0, 0], 'Main off, Left Right off'] reward:  -1.4086448894754255\n"
     ]
    },
    {
     "name": "stderr",
     "output_type": "stream",
     "text": [
      "/usr/local/lib/python3.6/dist-packages/ipykernel_launcher.py:25: UserWarning: Using a target size (torch.Size([1, 1])) that is different to the input size (torch.Size([28])). This will likely lead to incorrect results due to broadcasting. Please ensure they have the same size.\n"
     ]
    },
    {
     "name": "stdout",
     "output_type": "stream",
     "text": [
      "action is: [[0, 0], 'Main off, Left Right off'] reward:  -0.31817877365155023\n",
      "action is: [[0, 0], 'Main off, Left Right off'] reward:  0.2935615457868608\n",
      "action is: [[0, 0], 'Main off, Left Right off'] reward:  -1.391735765357879\n",
      "action is: [[0, 0], 'Main off, Left Right off'] reward:  -1.4259344737953086\n",
      "action is: [[0, 0], 'Main off, Left Right off'] reward:  -0.14976986299329836\n",
      "action is: [[0, 0], 'Main off, Left Right off'] reward:  -0.888647924744447\n",
      "action is: [[0, 0], 'Main off, Left Right off'] reward:  0.3168007935253513\n",
      "action is: [[0, 0], 'Main off, Left Right off'] reward:  -1.4682347274664664\n",
      "action is: [[0, 0], 'Main off, Left Right off'] reward:  -1.4793593914058079\n",
      "action is: [[0, 0], 'Main off, Left Right off'] reward:  -1.483421503971897\n",
      "action is: [[0, 0], 'Main off, Left Right off'] reward:  -1.4809404924658338\n",
      "action is: [[0, 0], 'Main off, Left Right off'] reward:  -1.4725703551027038\n",
      "action is: [[0, 0], 'Main off, Left Right off'] reward:  -1.4590524221465841\n",
      "action is: [[0, 0], 'Main off, Left Right off'] reward:  -1.4410380975905355\n",
      "action is: [[0, 0], 'Main off, Left Right off'] reward:  -1.4189867027797618\n",
      "action is: [[0, 0], 'Main off, Left Right off'] reward:  -1.3934461664462674\n",
      "action is: [[0, 0], 'Main off, Left Right off'] reward:  -1.3647954645304026\n",
      "action is: [[0, 0], 'Main off, Left Right off'] reward:  0.8557369787147309\n",
      "action is: [[0, 0], 'Main off, Left Right off'] reward:  -1.3780858615349416\n",
      "action is: [[0, 0], 'Main off, Left Right off'] reward:  -1.4176479542380207\n",
      "action is: [[0, 0], 'Main off, Left Right off'] reward:  0.7110963402709103\n",
      "action is: [[0, 0], 'Main off, Left Right off'] reward:  0.22996868095981426\n",
      "action is: [[0, 0], 'Main off, Left Right off'] reward:  0.7845432577695306\n",
      "action is: [[0, 0], 'Main off, Left Right off'] reward:  -0.4449153133337461\n",
      "action is: [[0, 0], 'Main off, Left Right off'] reward:  -1.2763438125070934\n"
     ]
    }
   ],
   "source": [
    "for a in range(1000):\n",
    "    env = gym.make('LunarLanderContinuous-v2')\n",
    "    env.reset()\n",
    "    env = wrap_env(env)\n",
    "    done = False\n",
    "    iter = 0\n",
    "    print(done)\n",
    "    observation = state = env.reset()\n",
    "\n",
    "    action = 1\n",
    "    TotalReward = 0\n",
    "\n",
    "    while not done and iter < max_iterations :\n",
    "      iter +=1\n",
    "      optimizer.zero_grad()\n",
    "    #   action = env.action_space.sample()\n",
    "      action =  random.choice(actions.all_actions)\n",
    "      state_values = policy_net.forward(torch.from_numpy(observation))\n",
    "\n",
    "      action = actions.get_action(state_values.argmax().item())\n",
    "      observation, reward, done, _ = env.step(action)\n",
    "      print(\"action is:\",actions.get_full_action(state_values.argmax().item()) ,\"reward: \",reward)\n",
    "      next_values = target_net.forward(torch.from_numpy(observation))\n",
    "\n",
    "      loss = F.smooth_l1_loss(state_values,torch.tensor([reward +df*next_values.max().item()], dtype=torch.float).unsqueeze(0) ) # Huber .unsqueeze(0)\n",
    "\n",
    "      loss.backward()\n",
    "      optimizer.step()\n",
    "\n",
    "\n",
    "      TotalReward+= reward\n",
    "      #print(\"state is:\", observation)\n",
    "\n",
    "      #if you want to see results on real-time 'open' the following 4 lines\n",
    "    #   screen = env.render(mode='rgb_array')\n",
    "    #   plt.imshow(screen)\n",
    "    #   ipythondisplay.clear_output(wait=True)\n",
    "    #   ipythondisplay.display(plt.gcf())\n",
    "\n",
    "\n",
    "      if iter % TARGET_UPDATE == 0:\n",
    "            target_net.load_state_dict(policy_net.state_dict())\n",
    "    print(TotalReward,iter)"
   ]
  },
  {
   "cell_type": "code",
   "execution_count": null,
   "metadata": {
    "colab": {
     "base_uri": "https://localhost:8080/",
     "height": 421
    },
    "id": "BzyI3vKZQiR6",
    "outputId": "dbe0e96e-3efc-42ed-f81b-a96ff5870be6"
   },
   "outputs": [],
   "source": [
    "env.close()\n",
    "show_video()"
   ]
  },
  {
   "cell_type": "code",
   "execution_count": null,
   "metadata": {
    "colab": {
     "base_uri": "https://localhost:8080/"
    },
    "id": "rY_ve2aViqJa",
    "outputId": "a1b0ce01-0ea3-4237-9bc1-15d741cb4377"
   },
   "outputs": [],
   "source": [
    "print(iter)"
   ]
  },
  {
   "cell_type": "code",
   "execution_count": null,
   "metadata": {
    "colab": {
     "base_uri": "https://localhost:8080/"
    },
    "id": "VQSL6GAC3Dw3",
    "outputId": "ad6dbb03-26be-4c36-fc22-7f714419c493"
   },
   "outputs": [],
   "source": [
    "#Draw random samples from a normal (Gaussian) distribution.\n",
    "mu, sigma = 0, 0.05 # mean and standard deviation\n",
    "s = np.random.normal(mu, sigma, 1)\n",
    "print(s)"
   ]
  },
  {
   "cell_type": "code",
   "execution_count": null,
   "metadata": {},
   "outputs": [],
   "source": []
  },
  {
   "cell_type": "code",
   "execution_count": null,
   "metadata": {},
   "outputs": [],
   "source": []
  },
  {
   "cell_type": "code",
   "execution_count": null,
   "metadata": {},
   "outputs": [],
   "source": []
  }
 ],
 "metadata": {
  "colab": {
   "name": "RL-LunaLnder-finalProj.ipynb",
   "provenance": []
  },
  "kernelspec": {
   "display_name": "Python 3",
   "language": "python",
   "name": "python3"
  },
  "language_info": {
   "codemirror_mode": {
    "name": "ipython",
    "version": 3
   },
   "file_extension": ".py",
   "mimetype": "text/x-python",
   "name": "python",
   "nbconvert_exporter": "python",
   "pygments_lexer": "ipython3",
   "version": "3.6.9"
  },
  "pycharm": {
   "stem_cell": {
    "cell_type": "raw",
    "source": [],
    "metadata": {
     "collapsed": false
    }
   }
  }
 },
 "nbformat": 4,
 "nbformat_minor": 1
}