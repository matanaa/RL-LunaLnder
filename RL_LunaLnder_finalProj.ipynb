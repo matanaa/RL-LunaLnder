{
 "cells": [
  {
   "cell_type": "markdown",
   "metadata": {
    "id": "HND9HYhOE89T"
   },
   "source": []
  },
  {
   "cell_type": "markdown",
   "metadata": {
    "id": "W-cVn8qQKtJq"
   },
   "source": [
    "Based on the following links to create this notebook:\n",
    "\n",
    "https://colab.research.google.com/drive/18LdlDDT87eb8cCTHZsXyS9ksQPzL3i6H\n",
    "\n",
    "https://colab.research.google.com/drive/1tug_bpg8RwrFOI8C6Ed-zo0OgD3yfnWy#scrollTo=bhsj7BTPHepg\n",
    "\n",
    "https://colab.research.google.com/drive/1tug_bpg8RwrFOI8C6Ed-zo0OgD3yfnWy\n",
    "\n",
    "\n",
    "To run Gym, you have to install prerequisites like xvbf,opengl & other python-dev packages using the following codes."
   ]
  },
  {
   "cell_type": "code",
   "execution_count": null,
   "metadata": {
    "colab": {
     "base_uri": "https://localhost:8080/"
    },
    "id": "GmtbAjPPKiFw",
    "outputId": "9d745500-a623-46dc-9717-57fd01f29646"
   },
   "outputs": [],
   "source": [
    "!pip install gym \n",
    "!apt-get install python-opengl ffmpeg -y \n",
    "!apt install xvfb -y \n",
    "!pip install pyvirtualdisplay  \n",
    "!pip install piglet \n",
    "!pip install gym[box2d] \n",
    "!pip install tensorflow \n"
   ]
  },
  {
   "cell_type": "code",
   "execution_count": 3,
   "metadata": {},
   "outputs": [
    {
     "data": {
      "text/plain": [
       "<pyvirtualdisplay.display.Display at 0x7ff890bb8128>"
      ]
     },
     "execution_count": 3,
     "metadata": {},
     "output_type": "execute_result"
    }
   ],
   "source": [
    "from pyvirtualdisplay import Display\n",
    "display = Display(visible=0, size=(1400, 900))\n",
    "display.start()"
   ]
  },
  {
   "cell_type": "code",
   "execution_count": 4,
   "metadata": {
    "id": "Y_hxdz4ALVQ3"
   },
   "outputs": [],
   "source": [
    "# This code creates a virtual display to draw game images on. \n",
    "# If you are running locally, just ignore it\n",
    "import os\n",
    "if type(os.environ.get(\"DISPLAY\")) is not str or len(os.environ.get(\"DISPLAY\"))==0:\n",
    "    !bash ../xvfb start\n",
    "    %env DISPLAY=:1"
   ]
  },
  {
   "cell_type": "code",
   "execution_count": 5,
   "metadata": {
    "id": "C1GqN0iRLaZk"
   },
   "outputs": [],
   "source": [
    "import gym\n",
    "from gym import logger as gymlogger\n",
    "from gym.wrappers import Monitor\n",
    "gymlogger.set_level(40) # error only\n",
    "import tensorflow as tf\n",
    "import numpy as np\n",
    "import random\n",
    "import matplotlib\n",
    "import matplotlib.pyplot as plt\n",
    "%matplotlib inline\n",
    "import math\n",
    "import glob\n",
    "import io\n",
    "import base64\n",
    "from IPython.display import HTML\n",
    "\n",
    "from IPython import display as ipythondisplay"
   ]
  },
  {
   "cell_type": "markdown",
   "metadata": {},
   "source": [
    "# My Code"
   ]
  },
  {
   "cell_type": "code",
   "execution_count": 6,
   "metadata": {},
   "outputs": [
    {
     "data": {
      "text/plain": [
       "28"
      ]
     },
     "execution_count": 6,
     "metadata": {},
     "output_type": "execute_result"
    }
   ],
   "source": [
    "class defaultActions:\n",
    "    def __init__(self):\n",
    "        self.a1 = [0,0] #engiens off\n",
    "        self.a2 = [0.5,0]# main slow\n",
    "        self.a2 = [0.75,0]# main meduim\n",
    "        self.a4 = [1,0] # main storng\n",
    "        self.a4 = [0,-0.5] # left slow\n",
    "        self.a4 = [0,-0.5] # left slow\n",
    "        self.main = [[0 , \"Main off\"],\n",
    "                     [0.5 ,\"Main slow\"],\n",
    "                     [0.75 , \"Main meduim\"],\n",
    "                     [1    , \"Main strong\"]\n",
    "                    ]\n",
    "        self.left_right = [\n",
    "                        [0, \"Left Right off\"],\n",
    "                        [-0.5 , \"Left slow\"],\n",
    "                        [-0.75  , \"Left meduim\"],\n",
    "                        [-0.1 , \"Left strong\"],\n",
    "                        \n",
    "                        [0.5 , \"Right slow\"],\n",
    "                        [0.75  , \"Right meduim\"],\n",
    "                        [0.1 , \"Right strong\"],\n",
    "                        ]\n",
    "        self.all_actions = {}\n",
    "        i = 0  \n",
    "        for main_eng in self.main:\n",
    "            for sec_eng in self.left_right:\n",
    "#                 print (f\"a{i},act:[{main_eng[0]},{sec_eng[0]},{main_eng[1]} {sec_eng[1]}]\")\n",
    "                self.all_actions[i] = [[main_eng[0],sec_eng[0]] , f\"{main_eng[1]}, {sec_eng[1]}\"]\n",
    "                i+=1\n",
    "        \n",
    "    def get_full_action(self,id):\n",
    "        return self.all_actions[id]\n",
    "\n",
    "    def get_action(self,id):\n",
    "        return self.all_actions[id][0]\n",
    "\n",
    "    def get_description(self,id):\n",
    "        return self.all_actions[id][1]\n",
    "    def get_action_count(self):\n",
    "        return len(self.all_actions)\n",
    "actions = defaultActions()\n",
    "actions.get_action_count()"
   ]
  },
  {
   "cell_type": "code",
   "execution_count": 7,
   "metadata": {
    "id": "ILbriB_oLn5T"
   },
   "outputs": [],
   "source": [
    "\"\"\"\n",
    "Utility functions to enable video recording of gym environment and displaying it\n",
    "To enable video, just do \"env = wrap_env(env)\"\"\n",
    "\"\"\"\n",
    "\n",
    "def show_video():\n",
    "  mp4list = glob.glob('video/*.mp4')\n",
    "  if len(mp4list) > 0:\n",
    "    mp4 = mp4list[0]\n",
    "    video = io.open(mp4, 'r+b').read()\n",
    "    encoded = base64.b64encode(video)\n",
    "    ipythondisplay.display(HTML(data='''<video alt=\"test\" autoplay \n",
    "                loop controls style=\"height: 400px;\">\n",
    "                <source src=\"data:video/mp4;base64,{0}\" type=\"video/mp4\" />\n",
    "             </video>'''.format(encoded.decode('ascii'))))\n",
    "  else: \n",
    "    print(\"Could not find video\")\n",
    "    \n",
    "\n",
    "def wrap_env(env):\n",
    "  env = Monitor(env, './video', force=True)\n",
    "  return env"
   ]
  },
  {
   "cell_type": "code",
   "execution_count": 8,
   "metadata": {
    "colab": {
     "base_uri": "https://localhost:8080/",
     "height": 286
    },
    "id": "yCHLYkMkLzcf",
    "outputId": "a6a0fa34-ac87-47ca-9437-68de50367627"
   },
   "outputs": [
    {
     "data": {
      "text/plain": [
       "<matplotlib.image.AxesImage at 0x7ff852173f98>"
      ]
     },
     "execution_count": 8,
     "metadata": {},
     "output_type": "execute_result"
    },
    {
     "data": {
      "image/png": "[encoded data removed]",
      "text/plain": [
       "<Figure size 432x288 with 1 Axes>"
      ]
     },
     "metadata": {
      "needs_background": "light"
     },
     "output_type": "display_data"
    }
   ],
   "source": [
    "# Box2d Environment\n",
    "env = gym.make('LunarLanderContinuous-v2')\n",
    "env.reset()\n",
    "plt.imshow(env.render('rgb_array'))\n"
   ]
  },
  {
   "cell_type": "code",
   "execution_count": 9,
   "metadata": {
    "colab": {
     "base_uri": "https://localhost:8080/"
    },
    "id": "Wh4v_3zCRepL",
    "outputId": "9050bd8f-a7ba-488a-e09d-b340f97e99ee"
   },
   "outputs": [
    {
     "name": "stdout",
     "output_type": "stream",
     "text": [
      "state size is: Box(-inf, inf, (8,), float32)\n",
      "action size= Box(-1.0, 1.0, (2,), float32)\n",
      "[-0.00214519  1.4149768  -0.21730165  0.18030304  0.00249254  0.04922206\n",
      "  0.          0.        ]\n"
     ]
    }
   ],
   "source": [
    "state_size = env.observation_space\n",
    "print(\"state size is:\", state_size)\n",
    "a = env.action_space\n",
    "print(\"action size=\",a) \n",
    "state = env.reset()\n",
    "print(state)   "
   ]
  },
  {
   "cell_type": "markdown",
   "metadata": {
    "id": "yTfAdl7dSS-K"
   },
   "source": [
    "# Action Space\n",
    "            #is two floats [main engine, left-right engines].\n",
    "            # Main engine: -1..0 off, 0..+1 throttle from 50% to 100% power. Engine can't work with less than 50% power.\n",
    "            # Left-right:  -1.0..-0.5 fire left engine, +0.5..+1.0 fire right engine, -0.5..0.5 off\n",
    "            self.action_space = spaces.Box(-1, +1, (2,), dtype=np.float32)"
   ]
  },
  {
   "cell_type": "code",
   "execution_count": 10,
   "metadata": {
    "colab": {
     "base_uri": "https://localhost:8080/"
    },
    "id": "EQaFvJdvM4qX",
    "outputId": "abb1bb94-322c-4052-ea47-3924aa01d167"
   },
   "outputs": [
    {
     "data": {
      "image/png": "[encoded data removed]",
      "text/plain": [
       "<Figure size 432x288 with 1 Axes>"
      ]
     },
     "metadata": {},
     "output_type": "display_data"
    },
    {
     "name": "stdout",
     "output_type": "stream",
     "text": [
      "0\n"
     ]
    },
    {
     "data": {
      "image/png": "[encoded data removed]",
      "text/plain": [
       "<Figure size 432x288 with 1 Axes>"
      ]
     },
     "metadata": {
      "needs_background": "light"
     },
     "output_type": "display_data"
    }
   ],
   "source": [
    "env = wrap_env(env)\n",
    "done = False\n",
    "iter = 0\n",
    "print(done)\n",
    "state = env.reset()\n",
    "\n",
    "action = 1\n",
    "TotalReward = 0;\n",
    "while not done and iter < 30 :\n",
    "  iter +=1\n",
    "#   action = env.action_space.sample()\n",
    "  action =  random.choice(actions.all_actions)\n",
    "  print(\"action is:\",action)\n",
    "  action = action[0]\n",
    "  observation, reward, done, _ = env.step(action)\n",
    "  #print(\"state is:\", observation)\n",
    "\n",
    "  #if you want to see results on real-time 'open' the following 4 lines\n",
    "  screen = env.render(mode='rgb_array')\n",
    "  plt.imshow(screen)\n",
    "  ipythondisplay.clear_output(wait=True)\n",
    "  ipythondisplay.display(plt.gcf())\n",
    "print(TotalReward)"
   ]
  },
  {
   "cell_type": "code",
   "execution_count": 11,
   "metadata": {
    "colab": {
     "base_uri": "https://localhost:8080/",
     "height": 421
    },
    "id": "BzyI3vKZQiR6",
    "outputId": "dbe0e96e-3efc-42ed-f81b-a96ff5870be6"
   },
   "outputs": [
    {
     "data": {
      "text/html": [
       "<video alt=\"test\" autoplay \n",
       "                loop controls style=\"height: 400px;\">\n",
       "                <source src=\"data:video/mp4;base64,AAAAIGZ0eXBpc29tAAACAGlzb21pc28yYXZjMW1wNDEAAAAIZnJlZQAAAAhtZGF0AAAA1m1vb3YAAABsbXZoZAAAAAAAAAAAAAAAAAAAA+gAAAAAAAEAAAEAAAAAAAAAAAAAAAABAAAAAAAAAAAAAAAAAAAAAQAAAAAAAAAAAAAAAAAAQAAAAAAAAAAAAAAAAAAAAAAAAAAAAAAAAAAAAAAAAAIAAABidWR0YQAAAFptZXRhAAAAAAAAACFoZGxyAAAAAAAAAABtZGlyYXBwbAAAAAAAAAAAAAAAAC1pbHN0AAAAJal0b28AAAAdZGF0YQAAAAEAAAAATGF2ZjU3LjgzLjEwMA==\" type=\"video/mp4\" />\n",
       "             </video>"
      ],
      "text/plain": [
       "<IPython.core.display.HTML object>"
      ]
     },
     "metadata": {},
     "output_type": "display_data"
    }
   ],
   "source": [
    "env.close()\n",
    "show_video()"
   ]
  },
  {
   "cell_type": "code",
   "execution_count": 12,
   "metadata": {
    "colab": {
     "base_uri": "https://localhost:8080/"
    },
    "id": "rY_ve2aViqJa",
    "outputId": "a1b0ce01-0ea3-4237-9bc1-15d741cb4377"
   },
   "outputs": [
    {
     "name": "stdout",
     "output_type": "stream",
     "text": [
      "30\n"
     ]
    }
   ],
   "source": [
    "print(iter)"
   ]
  },
  {
   "cell_type": "code",
   "execution_count": 13,
   "metadata": {
    "colab": {
     "base_uri": "https://localhost:8080/"
    },
    "id": "VQSL6GAC3Dw3",
    "outputId": "ad6dbb03-26be-4c36-fc22-7f714419c493"
   },
   "outputs": [
    {
     "name": "stdout",
     "output_type": "stream",
     "text": [
      "[-0.0006669]\n"
     ]
    }
   ],
   "source": [
    "#Draw random samples from a normal (Gaussian) distribution.\n",
    "mu, sigma = 0, 0.05 # mean and standard deviation\n",
    "s = np.random.normal(mu, sigma, 1)\n",
    "print(s)"
   ]
  },
  {
   "cell_type": "code",
   "execution_count": null,
   "metadata": {},
   "outputs": [],
   "source": []
  },
  {
   "cell_type": "code",
   "execution_count": null,
   "metadata": {},
   "outputs": [],
   "source": []
  },
  {
   "cell_type": "code",
   "execution_count": null,
   "metadata": {},
   "outputs": [],
   "source": []
  }
 ],
 "metadata": {
  "colab": {
   "name": "RL-LunaLnder-finalProj.ipynb",
   "provenance": []
  },
  "kernelspec": {
   "display_name": "Python 3",
   "language": "python",
   "name": "python3"
  }
 },
 "nbformat": 4,
 "nbformat_minor": 1
}
