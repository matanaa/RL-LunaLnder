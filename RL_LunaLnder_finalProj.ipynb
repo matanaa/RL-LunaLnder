{
  "nbformat": 4,
  "nbformat_minor": 0,
  "metadata": {
    "colab": {
      "name": "RL-LunaLnder-finalProj.ipynb",
      "provenance": []
    },
    "kernelspec": {
      "name": "python3",
      "display_name": "Python 3"
    }
  },
  "cells": [
    {
      "cell_type": "markdown",
      "metadata": {
        "id": "HND9HYhOE89T"
      },
      "source": [
        ""
      ]
    },
    {
      "cell_type": "markdown",
      "metadata": {
        "id": "W-cVn8qQKtJq"
      },
      "source": [
        "Based on the following links to create this notebook:\r\n",
        "\r\n",
        "https://colab.research.google.com/drive/18LdlDDT87eb8cCTHZsXyS9ksQPzL3i6H\r\n",
        "\r\n",
        "https://colab.research.google.com/drive/1tug_bpg8RwrFOI8C6Ed-zo0OgD3yfnWy#scrollTo=bhsj7BTPHepg\r\n",
        "\r\n",
        "https://colab.research.google.com/drive/1tug_bpg8RwrFOI8C6Ed-zo0OgD3yfnWy\r\n",
        "\r\n",
        "\r\n",
        "To run Gym, you have to install prerequisites like xvbf,opengl & other python-dev packages using the following codes."
      ]
    },
    {
      "cell_type": "code",
      "metadata": {
        "colab": {
          "base_uri": "https://localhost:8080/"
        },
        "id": "GmtbAjPPKiFw",
        "outputId": "9d745500-a623-46dc-9717-57fd01f29646"
      },
      "source": [
        "!pip install gym\r\n",
        "!apt-get install python-opengl -y\r\n",
        "!apt install xvfb -y\r\n",
        "!pip install pyvirtualdisplay\r\n",
        "!pip install piglet\r\n",
        "from pyvirtualdisplay import Display\r\n",
        "display = Display(visible=0, size=(1400, 900))\r\n",
        "display.start()"
      ],
      "execution_count": null,
      "outputs": [
        {
          "output_type": "stream",
          "text": [
            "Requirement already satisfied: gym in /usr/local/lib/python3.6/dist-packages (0.17.3)\n",
            "Requirement already satisfied: cloudpickle<1.7.0,>=1.2.0 in /usr/local/lib/python3.6/dist-packages (from gym) (1.3.0)\n",
            "Requirement already satisfied: numpy>=1.10.4 in /usr/local/lib/python3.6/dist-packages (from gym) (1.19.5)\n",
            "Requirement already satisfied: pyglet<=1.5.0,>=1.4.0 in /usr/local/lib/python3.6/dist-packages (from gym) (1.5.0)\n",
            "Requirement already satisfied: scipy in /usr/local/lib/python3.6/dist-packages (from gym) (1.4.1)\n",
            "Requirement already satisfied: future in /usr/local/lib/python3.6/dist-packages (from pyglet<=1.5.0,>=1.4.0->gym) (0.16.0)\n",
            "Reading package lists... Done\n",
            "Building dependency tree       \n",
            "Reading state information... Done\n",
            "Suggested packages:\n",
            "  libgle3\n",
            "The following NEW packages will be installed:\n",
            "  python-opengl\n",
            "0 upgraded, 1 newly installed, 0 to remove and 10 not upgraded.\n",
            "Need to get 496 kB of archives.\n",
            "After this operation, 5,416 kB of additional disk space will be used.\n",
            "Get:1 http://archive.ubuntu.com/ubuntu bionic/universe amd64 python-opengl all 3.1.0+dfsg-1 [496 kB]\n",
            "Fetched 496 kB in 1s (518 kB/s)\n",
            "Selecting previously unselected package python-opengl.\n",
            "(Reading database ... 146442 files and directories currently installed.)\n",
            "Preparing to unpack .../python-opengl_3.1.0+dfsg-1_all.deb ...\n",
            "Unpacking python-opengl (3.1.0+dfsg-1) ...\n",
            "Setting up python-opengl (3.1.0+dfsg-1) ...\n",
            "Reading package lists... Done\n",
            "Building dependency tree       \n",
            "Reading state information... Done\n",
            "The following NEW packages will be installed:\n",
            "  xvfb\n",
            "0 upgraded, 1 newly installed, 0 to remove and 10 not upgraded.\n",
            "Need to get 784 kB of archives.\n",
            "After this operation, 2,270 kB of additional disk space will be used.\n",
            "Get:1 http://archive.ubuntu.com/ubuntu bionic-updates/universe amd64 xvfb amd64 2:1.19.6-1ubuntu4.8 [784 kB]\n",
            "Fetched 784 kB in 1s (830 kB/s)\n",
            "Selecting previously unselected package xvfb.\n",
            "(Reading database ... 148797 files and directories currently installed.)\n",
            "Preparing to unpack .../xvfb_2%3a1.19.6-1ubuntu4.8_amd64.deb ...\n",
            "Unpacking xvfb (2:1.19.6-1ubuntu4.8) ...\n",
            "Setting up xvfb (2:1.19.6-1ubuntu4.8) ...\n",
            "Processing triggers for man-db (2.8.3-2ubuntu0.1) ...\n",
            "Collecting pyvirtualdisplay\n",
            "  Downloading https://files.pythonhosted.org/packages/ad/05/6568620fed440941b704664b9cfe5f836ad699ac7694745e7787fbdc8063/PyVirtualDisplay-2.0-py2.py3-none-any.whl\n",
            "Collecting EasyProcess\n",
            "  Downloading https://files.pythonhosted.org/packages/48/3c/75573613641c90c6d094059ac28adb748560d99bd27ee6f80cce398f404e/EasyProcess-0.3-py2.py3-none-any.whl\n",
            "Installing collected packages: EasyProcess, pyvirtualdisplay\n",
            "Successfully installed EasyProcess-0.3 pyvirtualdisplay-2.0\n",
            "Collecting piglet\n",
            "  Downloading https://files.pythonhosted.org/packages/11/56/6840e5f45626dc7eb7cd5dff57d11880b3113723b3b7b1fb1fa537855b75/piglet-1.0.0-py2.py3-none-any.whl\n",
            "Collecting piglet-templates\n",
            "\u001b[?25l  Downloading https://files.pythonhosted.org/packages/34/1e/49d7e0df9420eeb13a636487b8e606cf099f2ee0793159edd8ffe905125b/piglet_templates-1.1.0-py3-none-any.whl (63kB)\n",
            "\u001b[K     |████████████████████████████████| 71kB 3.6MB/s \n",
            "\u001b[?25hRequirement already satisfied: attrs in /usr/local/lib/python3.6/dist-packages (from piglet-templates->piglet) (20.3.0)\n",
            "Requirement already satisfied: markupsafe in /usr/local/lib/python3.6/dist-packages (from piglet-templates->piglet) (1.1.1)\n",
            "Collecting Parsley\n",
            "\u001b[?25l  Downloading https://files.pythonhosted.org/packages/2b/d6/4fed8d65e28a970e1c5cb33ce9c7e22e3de745e1b2ae37af051ef16aea3b/Parsley-1.3-py2.py3-none-any.whl (88kB)\n",
            "\u001b[K     |████████████████████████████████| 92kB 4.4MB/s \n",
            "\u001b[?25hRequirement already satisfied: astunparse in /usr/local/lib/python3.6/dist-packages (from piglet-templates->piglet) (1.6.3)\n",
            "Requirement already satisfied: six<2.0,>=1.6.1 in /usr/local/lib/python3.6/dist-packages (from astunparse->piglet-templates->piglet) (1.15.0)\n",
            "Requirement already satisfied: wheel<1.0,>=0.23.0 in /usr/local/lib/python3.6/dist-packages (from astunparse->piglet-templates->piglet) (0.36.2)\n"
          ],
          "name": "stdout"
        }
      ]
    },
    {
      "cell_type": "code",
      "metadata": {
        "id": "Y_hxdz4ALVQ3"
      },
      "source": [
        "# This code creates a virtual display to draw game images on. \r\n",
        "# If you are running locally, just ignore it\r\n",
        "import os\r\n",
        "if type(os.environ.get(\"DISPLAY\")) is not str or len(os.environ.get(\"DISPLAY\"))==0:\r\n",
        "    !bash ../xvfb start\r\n",
        "    %env DISPLAY=:1"
      ],
      "execution_count": null,
      "outputs": []
    },
    {
      "cell_type": "code",
      "metadata": {
        "id": "C1GqN0iRLaZk"
      },
      "source": [
        "import gym\r\n",
        "from gym import logger as gymlogger\r\n",
        "from gym.wrappers import Monitor\r\n",
        "gymlogger.set_level(40) # error only\r\n",
        "import tensorflow as tf\r\n",
        "import numpy as np\r\n",
        "import random\r\n",
        "import matplotlib\r\n",
        "import matplotlib.pyplot as plt\r\n",
        "%matplotlib inline\r\n",
        "import math\r\n",
        "import glob\r\n",
        "import io\r\n",
        "import base64\r\n",
        "from IPython.display import HTML\r\n",
        "\r\n",
        "from IPython import display as ipythondisplay"
      ],
      "execution_count": null,
      "outputs": []
    },
    {
      "cell_type": "code",
      "metadata": {
        "id": "ILbriB_oLn5T"
      },
      "source": [
        "\"\"\"\r\n",
        "Utility functions to enable video recording of gym environment and displaying it\r\n",
        "To enable video, just do \"env = wrap_env(env)\"\"\r\n",
        "\"\"\"\r\n",
        "\r\n",
        "def show_video():\r\n",
        "  mp4list = glob.glob('video/*.mp4')\r\n",
        "  if len(mp4list) > 0:\r\n",
        "    mp4 = mp4list[0]\r\n",
        "    video = io.open(mp4, 'r+b').read()\r\n",
        "    encoded = base64.b64encode(video)\r\n",
        "    ipythondisplay.display(HTML(data='''<video alt=\"test\" autoplay \r\n",
        "                loop controls style=\"height: 400px;\">\r\n",
        "                <source src=\"data:video/mp4;base64,{0}\" type=\"video/mp4\" />\r\n",
        "             </video>'''.format(encoded.decode('ascii'))))\r\n",
        "  else: \r\n",
        "    print(\"Could not find video\")\r\n",
        "    \r\n",
        "\r\n",
        "def wrap_env(env):\r\n",
        "  env = Monitor(env, './video', force=True)\r\n",
        "  return env"
      ],
      "execution_count": null,
      "outputs": []
    },
    {
      "cell_type": "code",
      "metadata": {
        "colab": {
          "base_uri": "https://localhost:8080/"
        },
        "id": "NnR-cqjbLpI4",
        "outputId": "20beff3c-f851-4f42-c686-11a6daf8b930"
      },
      "source": [
        "!pip install gym[box2d]"
      ],
      "execution_count": null,
      "outputs": [
        {
          "output_type": "stream",
          "text": [
            "Requirement already satisfied: gym[box2d] in /usr/local/lib/python3.6/dist-packages (0.17.3)\n",
            "Requirement already satisfied: numpy>=1.10.4 in /usr/local/lib/python3.6/dist-packages (from gym[box2d]) (1.19.5)\n",
            "Requirement already satisfied: cloudpickle<1.7.0,>=1.2.0 in /usr/local/lib/python3.6/dist-packages (from gym[box2d]) (1.3.0)\n",
            "Requirement already satisfied: pyglet<=1.5.0,>=1.4.0 in /usr/local/lib/python3.6/dist-packages (from gym[box2d]) (1.5.0)\n",
            "Requirement already satisfied: scipy in /usr/local/lib/python3.6/dist-packages (from gym[box2d]) (1.4.1)\n",
            "Requirement already satisfied: box2d-py~=2.3.5; extra == \"box2d\" in /usr/local/lib/python3.6/dist-packages (from gym[box2d]) (2.3.8)\n",
            "Requirement already satisfied: future in /usr/local/lib/python3.6/dist-packages (from pyglet<=1.5.0,>=1.4.0->gym[box2d]) (0.16.0)\n"
          ],
          "name": "stdout"
        }
      ]
    },
    {
      "cell_type": "code",
      "metadata": {
        "colab": {
          "base_uri": "https://localhost:8080/",
          "height": 286
        },
        "id": "yCHLYkMkLzcf",
        "outputId": "a6a0fa34-ac87-47ca-9437-68de50367627"
      },
      "source": [
        "# Box2d Environment\r\n",
        "env = gym.make('LunarLanderContinuous-v2')\r\n",
        "env.reset()\r\n",
        "plt.imshow(env.render('rgb_array'))\r\n"
      ],
      "execution_count": null,
      "outputs": [
        {
          "output_type": "execute_result",
          "data": {
            "text/plain": [
              "<matplotlib.image.AxesImage at 0x7f7671d35898>"
            ]
          },
          "metadata": {
            "tags": []
          },
          "execution_count": 28
        },
        {
          "output_type": "display_data",
          "data": {
            "image/png": "[encoded data removed]",
            "text/plain": [
              "<Figure size 432x288 with 1 Axes>"
            ]
          },
          "metadata": {
            "tags": [],
            "needs_background": "light"
          }
        }
      ]
    },
    {
      "cell_type": "code",
      "metadata": {
        "colab": {
          "base_uri": "https://localhost:8080/"
        },
        "id": "Wh4v_3zCRepL",
        "outputId": "9050bd8f-a7ba-488a-e09d-b340f97e99ee"
      },
      "source": [
        "state_size = env.observation_space\r\n",
        "print(\"state size is:\", state_size)\r\n",
        "a = env.action_space\r\n",
        "print(\"action size=\",a) \r\n",
        "state = env.reset()\r\n",
        "print(state)   "
      ],
      "execution_count": null,
      "outputs": [
        {
          "output_type": "stream",
          "text": [
            "state size is: Box(-inf, inf, (8,), float32)\n",
            "action size= Box(-1.0, 1.0, (2,), float32)\n",
            "[-1.2948990e-03  1.4134583e+00 -1.3117316e-01  1.1280904e-01\n",
            "  1.5072355e-03  2.9712701e-02  0.0000000e+00  0.0000000e+00]\n"
          ],
          "name": "stdout"
        }
      ]
    },
    {
      "cell_type": "markdown",
      "metadata": {
        "id": "yTfAdl7dSS-K"
      },
      "source": [
        "# Action Space\r\n",
        "            #is two floats [main engine, left-right engines].\r\n",
        "            # Main engine: -1..0 off, 0..+1 throttle from 50% to 100% power. Engine can't work with less than 50% power.\r\n",
        "            # Left-right:  -1.0..-0.5 fire left engine, +0.5..+1.0 fire right engine, -0.5..0.5 off\r\n",
        "            self.action_space = spaces.Box(-1, +1, (2,), dtype=np.float32)"
      ]
    },
    {
      "cell_type": "code",
      "metadata": {
        "colab": {
          "base_uri": "https://localhost:8080/"
        },
        "id": "EQaFvJdvM4qX",
        "outputId": "abb1bb94-322c-4052-ea47-3924aa01d167"
      },
      "source": [
        "env = wrap_env(env)\r\n",
        "done = False\r\n",
        "iter = 0\r\n",
        "print(done)\r\n",
        "state = env.reset()\r\n",
        "\r\n",
        "action = 1\r\n",
        "TotalReward = 0;\r\n",
        "while not done:\r\n",
        "  iter +=1\r\n",
        "  action = env.action_space.sample()\r\n",
        "  print(\"action is:\",action)\r\n",
        "  observation, reward, done, _ = env.step(action)\r\n",
        "  #print(\"state is:\", observation)\r\n",
        "\r\n",
        "  #if you want to see results on real-time 'open' the following 4 lines\r\n",
        "  #screen = env.render(mode='rgb_array')\r\n",
        "  #plt.imshow(screen)\r\n",
        "  #ipythondisplay.clear_output(wait=True)\r\n",
        "  #ipythondisplay.display(plt.gcf())\r\n",
        "print(TotalReward)"
      ],
      "execution_count": null,
      "outputs": [
        {
          "output_type": "stream",
          "text": [
            "False\n",
            "action is: [-0.4202333  -0.22639294]\n",
            "action is: [-0.00063439  0.5518342 ]\n",
            "action is: [-0.858539   -0.50489265]\n",
            "action is: [-0.082198    0.29732332]\n",
            "action is: [-0.81088823 -0.46591908]\n",
            "action is: [ 0.10779279 -0.6466116 ]\n",
            "action is: [-0.7731798  -0.16821654]\n",
            "action is: [-0.22804464 -0.14064218]\n",
            "action is: [0.83532315 0.42842546]\n",
            "action is: [ 0.46228662 -0.85384876]\n",
            "action is: [0.6407495  0.71939933]\n",
            "action is: [0.43636996 0.8365103 ]\n",
            "action is: [ 0.34062448 -0.10481322]\n",
            "action is: [-0.43644974  0.99962807]\n",
            "action is: [-0.7814079  -0.72431844]\n",
            "action is: [0.8701778 0.8024733]\n",
            "action is: [-0.25975356 -0.66718394]\n",
            "action is: [0.7380924  0.22220293]\n",
            "action is: [ 0.69581753 -0.5515273 ]\n",
            "action is: [-0.01787571  0.1670032 ]\n",
            "action is: [-0.75753546  0.756812  ]\n",
            "action is: [-0.13963337 -0.9551681 ]\n",
            "action is: [-0.12365171  0.74015766]\n",
            "action is: [0.5956968  0.03466279]\n",
            "action is: [-0.78696346  0.1669943 ]\n",
            "action is: [0.16723573 0.6340481 ]\n",
            "action is: [-0.37209782  0.9065481 ]\n",
            "action is: [ 0.92696124 -0.38460827]\n",
            "action is: [-0.18901534  0.4045346 ]\n",
            "action is: [0.72740215 0.49687445]\n",
            "action is: [-0.74265814  0.45012328]\n",
            "action is: [-0.9189732   0.38900334]\n",
            "action is: [0.60763425 0.6107278 ]\n",
            "action is: [ 0.5625248 -0.5852373]\n",
            "action is: [-0.160818   -0.81493586]\n",
            "action is: [0.8509728  0.18170941]\n",
            "action is: [ 0.7595292 -0.6316321]\n",
            "action is: [-0.98929155 -0.87660885]\n",
            "action is: [-0.7138876   0.42163423]\n",
            "action is: [ 0.35128862 -0.9163819 ]\n",
            "action is: [-0.4228336   0.41656068]\n",
            "action is: [-0.89450604  0.09587281]\n",
            "action is: [-0.75508374 -0.7973734 ]\n",
            "action is: [ 0.00426408 -0.7564423 ]\n",
            "action is: [ 0.91549706 -0.07577392]\n",
            "action is: [0.4801134  0.96480227]\n",
            "action is: [-0.774433   0.2364446]\n",
            "action is: [0.42420495 0.9574392 ]\n",
            "action is: [ 0.9890587  -0.67981714]\n",
            "action is: [0.9041059 0.7431846]\n",
            "action is: [-0.03025338  0.10671454]\n",
            "action is: [0.5540772 0.4148406]\n",
            "action is: [-0.43268988  0.01693928]\n",
            "action is: [0.4795599 0.0579836]\n",
            "action is: [0.82605773 0.6493903 ]\n",
            "action is: [0.5746279  0.61614305]\n",
            "action is: [-0.4266095   0.43502736]\n",
            "action is: [-0.38067982  0.72945565]\n",
            "action is: [-0.9231878  -0.96773434]\n",
            "action is: [ 0.00390807 -0.60984343]\n",
            "action is: [-0.1737455   0.31332663]\n",
            "action is: [-0.92139083 -0.448512  ]\n",
            "action is: [0.6549631 0.8125032]\n",
            "action is: [0.62272185 0.14893992]\n",
            "action is: [ 0.17929702 -0.03395009]\n",
            "action is: [0.8692425  0.12942672]\n",
            "action is: [0.72302836 0.7216441 ]\n",
            "action is: [-0.36993563  0.9848448 ]\n",
            "action is: [ 0.29051557 -0.55853254]\n",
            "action is: [ 0.86240476 -0.47922218]\n",
            "action is: [ 0.6709638  -0.15993536]\n",
            "action is: [-0.38311732 -0.2248371 ]\n",
            "action is: [-0.95665133 -0.71307975]\n",
            "action is: [-0.40044403  0.92711097]\n",
            "action is: [-0.47892445 -0.93747437]\n",
            "action is: [-0.3411574   0.22661757]\n",
            "action is: [-0.28289458  0.3304743 ]\n",
            "action is: [-0.11734157 -0.532793  ]\n",
            "action is: [-0.16600016 -0.7381388 ]\n",
            "action is: [ 0.702756   -0.36828867]\n",
            "action is: [-0.6158955   0.69986224]\n",
            "action is: [ 0.7861585  -0.34444904]\n",
            "action is: [-0.7716324  0.6837129]\n",
            "action is: [-0.45688426  0.70945585]\n",
            "action is: [-0.1126037  0.7513399]\n",
            "action is: [ 0.63188064 -0.6111974 ]\n",
            "action is: [-0.08844848  0.8458929 ]\n",
            "action is: [ 0.16662654 -0.34584644]\n",
            "action is: [-0.23689026  0.513712  ]\n",
            "action is: [0.66024894 0.48114023]\n",
            "action is: [0.56685954 0.8619756 ]\n",
            "action is: [0.23184675 0.7546548 ]\n",
            "0\n"
          ],
          "name": "stdout"
        }
      ]
    },
    {
      "cell_type": "code",
      "metadata": {
        "colab": {
          "base_uri": "https://localhost:8080/",
          "height": 421
        },
        "id": "BzyI3vKZQiR6",
        "outputId": "dbe0e96e-3efc-42ed-f81b-a96ff5870be6"
      },
      "source": [
        "env.close()\r\n",
        "show_video()"
      ],
      "execution_count": null,
      "outputs": [
        {
          "output_type": "display_data",
          "data": {
            "text/html": [
              "<video alt=\"test\" autoplay \n",
              "                loop controls style=\"height: 400px;\">\n",
              "                <source src=\"data:video/mp4;base64,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\" type=\"video/mp4\" />\n",
              "             </video>"
            ],
            "text/plain": [
              "<IPython.core.display.HTML object>"
            ]
          },
          "metadata": {
            "tags": []
          }
        }
      ]
    },
    {
      "cell_type": "code",
      "metadata": {
        "colab": {
          "base_uri": "https://localhost:8080/"
        },
        "id": "rY_ve2aViqJa",
        "outputId": "a1b0ce01-0ea3-4237-9bc1-15d741cb4377"
      },
      "source": [
        "print(iter)"
      ],
      "execution_count": null,
      "outputs": [
        {
          "output_type": "stream",
          "text": [
            "92\n"
          ],
          "name": "stdout"
        }
      ]
    },
    {
      "cell_type": "code",
      "metadata": {
        "colab": {
          "base_uri": "https://localhost:8080/"
        },
        "id": "VQSL6GAC3Dw3",
        "outputId": "ad6dbb03-26be-4c36-fc22-7f714419c493"
      },
      "source": [
        "#Draw random samples from a normal (Gaussian) distribution.\r\n",
        "mu, sigma = 0, 0.05 # mean and standard deviation\r\n",
        "s = np.random.normal(mu, sigma, 1)\r\n",
        "print(s)"
      ],
      "execution_count": null,
      "outputs": [
        {
          "output_type": "stream",
          "text": [
            "[-0.02039941]\n"
          ],
          "name": "stdout"
        }
      ]
    }
  ]
}