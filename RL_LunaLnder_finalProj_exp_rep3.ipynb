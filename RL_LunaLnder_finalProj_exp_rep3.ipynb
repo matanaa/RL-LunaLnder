{
  "nbformat": 4,
  "nbformat_minor": 0,
  "metadata": {
    "colab": {
      "name": "RL_LunaLnder_finalProj exp_rep2.ipynb",
      "provenance": []
    },
    "kernelspec": {
      "display_name": "Python 3",
      "language": "python",
      "name": "python3"
    },
    "language_info": {
      "codemirror_mode": {
        "name": "ipython",
        "version": 3
      },
      "file_extension": ".py",
      "mimetype": "text/x-python",
      "name": "python",
      "nbconvert_exporter": "python",
      "pygments_lexer": "ipython3",
      "version": "3.6.9"
    },
    "pycharm": {
      "stem_cell": {
        "cell_type": "raw",
        "source": [],
        "metadata": {
          "collapsed": false
        }
      }
    }
  },
  "cells": [
    {
      "cell_type": "markdown",
      "metadata": {
        "id": "HND9HYhOE89T"
      },
      "source": [
        ""
      ]
    },
    {
      "cell_type": "markdown",
      "metadata": {
        "id": "W-cVn8qQKtJq"
      },
      "source": [
        "Based on the following links to create this notebook:\n",
        "\n",
        "https://colab.research.google.com/drive/18LdlDDT87eb8cCTHZsXyS9ksQPzL3i6H\n",
        "\n",
        "https://colab.research.google.com/drive/1tug_bpg8RwrFOI8C6Ed-zo0OgD3yfnWy#scrollTo=bhsj7BTPHepg\n",
        "\n",
        "https://colab.research.google.com/drive/1tug_bpg8RwrFOI8C6Ed-zo0OgD3yfnWy\n",
        "\n",
        "\n",
        "To run Gym, you have to install prerequisites like xvbf,opengl & other python-dev packages using the following codes."
      ]
    },
    {
      "cell_type": "markdown",
      "metadata": {
        "id": "14NwgxVmX-Og"
      },
      "source": [
        "https://pytorch.org/tutorials/intermediate/reinforcement_q_learning.html"
      ]
    },
    {
      "cell_type": "code",
      "metadata": {
        "colab": {
          "base_uri": "https://localhost:8080/"
        },
        "id": "GmtbAjPPKiFw",
        "outputId": "43de22e1-b607-4f8a-b695-1b95410f5b34"
      },
      "source": [
        "!pip install gym  torch\n",
        "!apt-get install python-opengl ffmpeg -y \n",
        "!apt install xvfb -y \n",
        "!pip install pyvirtualdisplay  \n",
        "!pip install piglet \n",
        "!pip install gym[box2d] \n",
        "!pip install tensorflow \n"
      ],
      "execution_count": 1,
      "outputs": [
        {
          "output_type": "stream",
          "text": [
            "Requirement already satisfied: gym in /usr/local/lib/python3.7/dist-packages (0.17.3)\n",
            "Requirement already satisfied: torch in /usr/local/lib/python3.7/dist-packages (1.7.1+cu101)\n",
            "Requirement already satisfied: scipy in /usr/local/lib/python3.7/dist-packages (from gym) (1.4.1)\n",
            "Requirement already satisfied: cloudpickle<1.7.0,>=1.2.0 in /usr/local/lib/python3.7/dist-packages (from gym) (1.3.0)\n",
            "Requirement already satisfied: pyglet<=1.5.0,>=1.4.0 in /usr/local/lib/python3.7/dist-packages (from gym) (1.5.0)\n",
            "Requirement already satisfied: numpy>=1.10.4 in /usr/local/lib/python3.7/dist-packages (from gym) (1.19.5)\n",
            "Requirement already satisfied: typing-extensions in /usr/local/lib/python3.7/dist-packages (from torch) (3.7.4.3)\n",
            "Requirement already satisfied: future in /usr/local/lib/python3.7/dist-packages (from pyglet<=1.5.0,>=1.4.0->gym) (0.16.0)\n",
            "Reading package lists... Done\n",
            "Building dependency tree       \n",
            "Reading state information... Done\n",
            "python-opengl is already the newest version (3.1.0+dfsg-1).\n",
            "ffmpeg is already the newest version (7:3.4.8-0ubuntu0.2).\n",
            "0 upgraded, 0 newly installed, 0 to remove and 29 not upgraded.\n",
            "Reading package lists... Done\n",
            "Building dependency tree       \n",
            "Reading state information... Done\n",
            "xvfb is already the newest version (2:1.19.6-1ubuntu4.8).\n",
            "0 upgraded, 0 newly installed, 0 to remove and 29 not upgraded.\n",
            "Requirement already satisfied: pyvirtualdisplay in /usr/local/lib/python3.7/dist-packages (2.1)\n",
            "Requirement already satisfied: EasyProcess in /usr/local/lib/python3.7/dist-packages (from pyvirtualdisplay) (0.3)\n",
            "Requirement already satisfied: piglet in /usr/local/lib/python3.7/dist-packages (1.0.0)\n",
            "Requirement already satisfied: piglet-templates in /usr/local/lib/python3.7/dist-packages (from piglet) (1.1.0)\n",
            "Requirement already satisfied: astunparse in /usr/local/lib/python3.7/dist-packages (from piglet-templates->piglet) (1.6.3)\n",
            "Requirement already satisfied: attrs in /usr/local/lib/python3.7/dist-packages (from piglet-templates->piglet) (20.3.0)\n",
            "Requirement already satisfied: Parsley in /usr/local/lib/python3.7/dist-packages (from piglet-templates->piglet) (1.3)\n",
            "Requirement already satisfied: markupsafe in /usr/local/lib/python3.7/dist-packages (from piglet-templates->piglet) (1.1.1)\n",
            "Requirement already satisfied: wheel<1.0,>=0.23.0 in /usr/local/lib/python3.7/dist-packages (from astunparse->piglet-templates->piglet) (0.36.2)\n",
            "Requirement already satisfied: six<2.0,>=1.6.1 in /usr/local/lib/python3.7/dist-packages (from astunparse->piglet-templates->piglet) (1.15.0)\n",
            "Requirement already satisfied: gym[box2d] in /usr/local/lib/python3.7/dist-packages (0.17.3)\n",
            "Requirement already satisfied: numpy>=1.10.4 in /usr/local/lib/python3.7/dist-packages (from gym[box2d]) (1.19.5)\n",
            "Requirement already satisfied: pyglet<=1.5.0,>=1.4.0 in /usr/local/lib/python3.7/dist-packages (from gym[box2d]) (1.5.0)\n",
            "Requirement already satisfied: scipy in /usr/local/lib/python3.7/dist-packages (from gym[box2d]) (1.4.1)\n",
            "Requirement already satisfied: cloudpickle<1.7.0,>=1.2.0 in /usr/local/lib/python3.7/dist-packages (from gym[box2d]) (1.3.0)\n",
            "Requirement already satisfied: box2d-py~=2.3.5; extra == \"box2d\" in /usr/local/lib/python3.7/dist-packages (from gym[box2d]) (2.3.8)\n",
            "Requirement already satisfied: future in /usr/local/lib/python3.7/dist-packages (from pyglet<=1.5.0,>=1.4.0->gym[box2d]) (0.16.0)\n",
            "Requirement already satisfied: tensorflow in /usr/local/lib/python3.7/dist-packages (2.4.1)\n",
            "Requirement already satisfied: termcolor~=1.1.0 in /usr/local/lib/python3.7/dist-packages (from tensorflow) (1.1.0)\n",
            "Requirement already satisfied: tensorflow-estimator<2.5.0,>=2.4.0 in /usr/local/lib/python3.7/dist-packages (from tensorflow) (2.4.0)\n",
            "Requirement already satisfied: tensorboard~=2.4 in /usr/local/lib/python3.7/dist-packages (from tensorflow) (2.4.1)\n",
            "Requirement already satisfied: flatbuffers~=1.12.0 in /usr/local/lib/python3.7/dist-packages (from tensorflow) (1.12)\n",
            "Requirement already satisfied: six~=1.15.0 in /usr/local/lib/python3.7/dist-packages (from tensorflow) (1.15.0)\n",
            "Requirement already satisfied: wrapt~=1.12.1 in /usr/local/lib/python3.7/dist-packages (from tensorflow) (1.12.1)\n",
            "Requirement already satisfied: astunparse~=1.6.3 in /usr/local/lib/python3.7/dist-packages (from tensorflow) (1.6.3)\n",
            "Requirement already satisfied: grpcio~=1.32.0 in /usr/local/lib/python3.7/dist-packages (from tensorflow) (1.32.0)\n",
            "Requirement already satisfied: absl-py~=0.10 in /usr/local/lib/python3.7/dist-packages (from tensorflow) (0.10.0)\n",
            "Requirement already satisfied: google-pasta~=0.2 in /usr/local/lib/python3.7/dist-packages (from tensorflow) (0.2.0)\n",
            "Requirement already satisfied: wheel~=0.35 in /usr/local/lib/python3.7/dist-packages (from tensorflow) (0.36.2)\n",
            "Requirement already satisfied: gast==0.3.3 in /usr/local/lib/python3.7/dist-packages (from tensorflow) (0.3.3)\n",
            "Requirement already satisfied: numpy~=1.19.2 in /usr/local/lib/python3.7/dist-packages (from tensorflow) (1.19.5)\n",
            "Requirement already satisfied: protobuf>=3.9.2 in /usr/local/lib/python3.7/dist-packages (from tensorflow) (3.12.4)\n",
            "Requirement already satisfied: h5py~=2.10.0 in /usr/local/lib/python3.7/dist-packages (from tensorflow) (2.10.0)\n",
            "Requirement already satisfied: keras-preprocessing~=1.1.2 in /usr/local/lib/python3.7/dist-packages (from tensorflow) (1.1.2)\n",
            "Requirement already satisfied: typing-extensions~=3.7.4 in /usr/local/lib/python3.7/dist-packages (from tensorflow) (3.7.4.3)\n",
            "Requirement already satisfied: opt-einsum~=3.3.0 in /usr/local/lib/python3.7/dist-packages (from tensorflow) (3.3.0)\n",
            "Requirement already satisfied: google-auth-oauthlib<0.5,>=0.4.1 in /usr/local/lib/python3.7/dist-packages (from tensorboard~=2.4->tensorflow) (0.4.2)\n",
            "Requirement already satisfied: markdown>=2.6.8 in /usr/local/lib/python3.7/dist-packages (from tensorboard~=2.4->tensorflow) (3.3.4)\n",
            "Requirement already satisfied: werkzeug>=0.11.15 in /usr/local/lib/python3.7/dist-packages (from tensorboard~=2.4->tensorflow) (1.0.1)\n",
            "Requirement already satisfied: tensorboard-plugin-wit>=1.6.0 in /usr/local/lib/python3.7/dist-packages (from tensorboard~=2.4->tensorflow) (1.8.0)\n",
            "Requirement already satisfied: google-auth<2,>=1.6.3 in /usr/local/lib/python3.7/dist-packages (from tensorboard~=2.4->tensorflow) (1.27.0)\n",
            "Requirement already satisfied: requests<3,>=2.21.0 in /usr/local/lib/python3.7/dist-packages (from tensorboard~=2.4->tensorflow) (2.23.0)\n",
            "Requirement already satisfied: setuptools>=41.0.0 in /usr/local/lib/python3.7/dist-packages (from tensorboard~=2.4->tensorflow) (54.0.0)\n",
            "Requirement already satisfied: requests-oauthlib>=0.7.0 in /usr/local/lib/python3.7/dist-packages (from google-auth-oauthlib<0.5,>=0.4.1->tensorboard~=2.4->tensorflow) (1.3.0)\n",
            "Requirement already satisfied: importlib-metadata; python_version < \"3.8\" in /usr/local/lib/python3.7/dist-packages (from markdown>=2.6.8->tensorboard~=2.4->tensorflow) (3.7.0)\n",
            "Requirement already satisfied: rsa<5,>=3.1.4; python_version >= \"3.6\" in /usr/local/lib/python3.7/dist-packages (from google-auth<2,>=1.6.3->tensorboard~=2.4->tensorflow) (4.7.2)\n",
            "Requirement already satisfied: cachetools<5.0,>=2.0.0 in /usr/local/lib/python3.7/dist-packages (from google-auth<2,>=1.6.3->tensorboard~=2.4->tensorflow) (4.2.1)\n",
            "Requirement already satisfied: pyasn1-modules>=0.2.1 in /usr/local/lib/python3.7/dist-packages (from google-auth<2,>=1.6.3->tensorboard~=2.4->tensorflow) (0.2.8)\n",
            "Requirement already satisfied: idna<3,>=2.5 in /usr/local/lib/python3.7/dist-packages (from requests<3,>=2.21.0->tensorboard~=2.4->tensorflow) (2.10)\n",
            "Requirement already satisfied: certifi>=2017.4.17 in /usr/local/lib/python3.7/dist-packages (from requests<3,>=2.21.0->tensorboard~=2.4->tensorflow) (2020.12.5)\n",
            "Requirement already satisfied: urllib3!=1.25.0,!=1.25.1,<1.26,>=1.21.1 in /usr/local/lib/python3.7/dist-packages (from requests<3,>=2.21.0->tensorboard~=2.4->tensorflow) (1.24.3)\n",
            "Requirement already satisfied: chardet<4,>=3.0.2 in /usr/local/lib/python3.7/dist-packages (from requests<3,>=2.21.0->tensorboard~=2.4->tensorflow) (3.0.4)\n",
            "Requirement already satisfied: oauthlib>=3.0.0 in /usr/local/lib/python3.7/dist-packages (from requests-oauthlib>=0.7.0->google-auth-oauthlib<0.5,>=0.4.1->tensorboard~=2.4->tensorflow) (3.1.0)\n",
            "Requirement already satisfied: zipp>=0.5 in /usr/local/lib/python3.7/dist-packages (from importlib-metadata; python_version < \"3.8\"->markdown>=2.6.8->tensorboard~=2.4->tensorflow) (3.4.0)\n",
            "Requirement already satisfied: pyasn1>=0.1.3 in /usr/local/lib/python3.7/dist-packages (from rsa<5,>=3.1.4; python_version >= \"3.6\"->google-auth<2,>=1.6.3->tensorboard~=2.4->tensorflow) (0.4.8)\n"
          ],
          "name": "stdout"
        }
      ]
    },
    {
      "cell_type": "code",
      "metadata": {
        "id": "s2LD1gwzX-Oh",
        "colab": {
          "base_uri": "https://localhost:8080/"
        },
        "outputId": "c7fbd53c-cea1-470a-c524-7fea8d719e1c"
      },
      "source": [
        "from pyvirtualdisplay import Display\n",
        "display = Display(visible=0, size=(1400, 900))\n",
        "display.start()\n"
      ],
      "execution_count": 2,
      "outputs": [
        {
          "output_type": "execute_result",
          "data": {
            "text/plain": [
              "<pyvirtualdisplay.display.Display at 0x7fcbc9eed4d0>"
            ]
          },
          "metadata": {
            "tags": []
          },
          "execution_count": 2
        }
      ]
    },
    {
      "cell_type": "code",
      "metadata": {
        "id": "Y_hxdz4ALVQ3"
      },
      "source": [
        "# This code creates a virtual display to draw game images on. \n",
        "# If you are running locally, just ignore it\n",
        "import os\n",
        "if type(os.environ.get(\"DISPLAY\")) is not str or len(os.environ.get(\"DISPLAY\"))==0:\n",
        "    !bash ../xvfb start\n",
        "    %env DISPLAY=:1"
      ],
      "execution_count": 3,
      "outputs": []
    },
    {
      "cell_type": "code",
      "metadata": {
        "id": "C1GqN0iRLaZk"
      },
      "source": [
        "import gym\n",
        "from gym import logger as gymlogger\n",
        "from gym.wrappers import Monitor\n",
        "gymlogger.set_level(40) # error only\n",
        "# import tensorflow as tf\n",
        "import random\n",
        "import matplotlib.pyplot as plt\n",
        "%matplotlib inline\n",
        "import math\n",
        "import glob\n",
        "import io\n",
        "import base64\n",
        "from IPython.display import HTML\n",
        "\n",
        "from IPython import display as ipythondisplay\n",
        "from collections import namedtuple"
      ],
      "execution_count": 4,
      "outputs": []
    },
    {
      "cell_type": "code",
      "metadata": {
        "id": "ILbriB_oLn5T"
      },
      "source": [
        "\"\"\"\n",
        "Utility functions to enable video recording of gym environment and displaying it\n",
        "To enable video, just do \"env = wrap_env(env)\"\"\n",
        "\"\"\"\n",
        "\n",
        "def show_video():\n",
        "  mp4list = glob.glob('video/*.mp4')\n",
        "  if len(mp4list) > 0:\n",
        "    mp4 = mp4list[0]\n",
        "    video = io.open(mp4, 'r+b').read()\n",
        "    encoded = base64.b64encode(video)\n",
        "    ipythondisplay.display(HTML(data='''<video alt=\"test\" autoplay \n",
        "                loop controls style=\"height: 400px;\">\n",
        "                <source src=\"data:video/mp4;base64,{0}\" type=\"video/mp4\" />\n",
        "             </video>'''.format(encoded.decode('ascii'))))\n",
        "  else: \n",
        "    print(\"Could not find video\")\n",
        "    \n",
        "\n",
        "def wrap_env(env):\n",
        "  env = Monitor(env, './video', force=True)\n",
        "  return env\n",
        "\n",
        "def make_noise():\n",
        "    mu, sigma = 0, 0.05 # mean and standard deviation\n",
        "    return np.random.normal(mu, sigma, 1)[0]\n",
        "\n",
        "def plot(frame_idx, rewards, losses):\n",
        "#     clear_output(True)\n",
        "    plt.figure(figsize=(20,5))\n",
        "    plt.subplot(131)\n",
        "    plt.title('frame %s. reward: %s' % (frame_idx, np.mean(rewards[-10:])))\n",
        "    plt.plot(rewards)\n",
        "    plt.subplot(132)\n",
        "    plt.title('loss')\n",
        "    plt.plot(losses)\n",
        "    plt.show()\n"
      ],
      "execution_count": 5,
      "outputs": []
    },
    {
      "cell_type": "markdown",
      "metadata": {
        "id": "SERZbDJqX-Oj"
      },
      "source": [
        "# My Code"
      ]
    },
    {
      "cell_type": "code",
      "metadata": {
        "id": "LU2kLfDwX-Ok"
      },
      "source": [
        "import torch\n",
        "import numpy as np\n",
        "import torch.nn as nn\n",
        "import torch.nn.functional as F\n",
        "import torch.optim as optim\n",
        "import pickle"
      ],
      "execution_count": 6,
      "outputs": []
    },
    {
      "cell_type": "code",
      "metadata": {
        "id": "OyVG3_erX-Ok"
      },
      "source": [
        "class defaultActions:\n",
        "    def __init__(self):\n",
        "\n",
        "        self.main = [[0 , \"Main off\"],\n",
        "                     [0.5 ,\"Main slow\"],\n",
        "#                      [0.75 , \"Main meduim\"],\n",
        "                     [1    , \"Main strong\"]\n",
        "                    ]\n",
        "        self.left_right = [\n",
        "                        [0, \"Left Right off\"],\n",
        "#                         [-0.5 , \"Left slow\"],\n",
        "#                         [-0.75  , \"Left meduim\"],\n",
        "                        [-1 , \"Left strong\"],\n",
        "                        \n",
        "#                         [0.5 , \"Right slow\"],\n",
        "#                         [0.75  , \"Right meduim\"],\n",
        "                        [1 , \"Right strong\"],\n",
        "                        ]\n",
        "        self.all_actions = {}\n",
        "        i = 0  \n",
        "        for main_eng in self.main:\n",
        "            for sec_eng in self.left_right:\n",
        "#                 print (f\"a{i},act:[{main_eng[0]},{sec_eng[0]},{main_eng[1]} {sec_eng[1]}]\")\n",
        "                self.all_actions[i] = [[main_eng[0],sec_eng[0]] , f\"{main_eng[1]}, {sec_eng[1]}\"]\n",
        "                i+=1\n",
        "        \n",
        "    def get_full_action(self,id):\n",
        "        return self.all_actions[id]\n",
        "\n",
        "    def get_action(self,id,add_noise=True):\n",
        "        if add_noise :\n",
        "            return [self.all_actions[id][0][0]+make_noise(), self.all_actions[id][0][1]+make_noise()]\n",
        "        else:\n",
        "            return self.all_actions[id][0]\n",
        "\n",
        "    def get_description(self,id):\n",
        "        return self.all_actions[id][1]\n",
        "    def get_action_count(self):\n",
        "        return len(self.all_actions)\n",
        "actions = defaultActions()\n"
      ],
      "execution_count": 7,
      "outputs": []
    },
    {
      "cell_type": "code",
      "metadata": {
        "id": "pbb1iMa0X-Ol"
      },
      "source": [
        "class model(nn.Module):\n",
        "    def __init__(self, layers, name=\"\"):\n",
        "        super(model, self).__init__()\n",
        "        self.name = \"\"\n",
        "        self.layers = layers\n",
        "        self.features = nn.Sequential(*layers)\n",
        "\n",
        "\n",
        "    def name(self):\n",
        "        return self.name\n",
        "\n",
        "    def model_summery(self):\n",
        "        return self.features.summary()\n",
        "\n",
        "    def forward(self, x):\n",
        "        return self.features(x)"
      ],
      "execution_count": 8,
      "outputs": []
    },
    {
      "cell_type": "code",
      "metadata": {
        "id": "Ld8W5xvqX-Ol"
      },
      "source": [
        "device = torch.device(\"cuda\" if torch.cuda.is_available() else \"cpu\")"
      ],
      "execution_count": 9,
      "outputs": []
    },
    {
      "cell_type": "code",
      "metadata": {
        "id": "DafsbPV3X-Ol"
      },
      "source": [
        "input_size = 8\n",
        "h1 = 16\n",
        "h2 = 16\n",
        "h3 = 16 \n",
        "h4 = 16\n",
        "h5 = 16\n",
        "output_size = actions.get_action_count()\n",
        "layers = [nn.Linear(input_size,h1) ,nn.ReLU(inplace=True), #, nn.BatchNorm1d(h1)\n",
        "         nn.Linear(h1,h2) ,nn.ReLU(inplace=True),\n",
        "#          nn.Linear(h2,h3) ,nn.ReLU(inplace=True),\n",
        "#          nn.Linear(h3,h4) , nn.ReLU(inplace=True),\n",
        "#          nn.Linear(h4,h5) ,nn.ReLU(inplace=True),\n",
        "         nn.Linear(h5,output_size),nn.ReLU(inplace=True) # , nn.BatchNorm1d(output_size)\n",
        "         ]\n",
        "for x in layers:\n",
        "    if isinstance(x, nn.Linear):\n",
        "        nn.init.normal_(x.weight, mean=0, std=1.0)\n"
      ],
      "execution_count": 10,
      "outputs": []
    },
    {
      "cell_type": "code",
      "metadata": {
        "id": "Zp4NQ6inX-Ol"
      },
      "source": [
        "\n",
        "Transition = namedtuple('Transition',\n",
        "                        ('state', 'action', 'next_state', 'reward'))\n",
        "\n",
        "\n",
        "class ReplayMemory(object):\n",
        "\n",
        "    def __init__(self, capacity):\n",
        "        self.capacity = capacity\n",
        "        self.memory = []\n",
        "        self.position = 0\n",
        "\n",
        "    def push(self, *args):\n",
        "        \"\"\"Saves a transition.\"\"\"\n",
        "        if len(self.memory) < self.capacity:\n",
        "            self.memory.append(None)\n",
        "        self.memory[self.position] = Transition(*args)\n",
        "        self.position = (self.position + 1) % self.capacity\n",
        "\n",
        "    def sample(self, batch_size):\n",
        "        return random.sample(self.memory, batch_size)\n",
        "\n",
        "    def __len__(self):\n",
        "        return len(self.memory)"
      ],
      "execution_count": 11,
      "outputs": []
    },
    {
      "cell_type": "code",
      "metadata": {
        "id": "yCHLYkMkLzcf",
        "colab": {
          "base_uri": "https://localhost:8080/",
          "height": 286
        },
        "outputId": "3ad8135f-09e6-4861-90ea-273edf23458d"
      },
      "source": [
        "# Box2d Environment\n",
        "env = gym.make('LunarLanderContinuous-v2')\n",
        "env.reset()\n",
        "plt.imshow(env.render('rgb_array'))\n"
      ],
      "execution_count": 12,
      "outputs": [
        {
          "output_type": "execute_result",
          "data": {
            "text/plain": [
              "<matplotlib.image.AxesImage at 0x7fcb73788050>"
            ]
          },
          "metadata": {
            "tags": []
          },
          "execution_count": 12
        },
        {
          "output_type": "display_data",
          "data": {
            "image/png": "[encoded data removed]",
            "text/plain": [
              "<Figure size 432x288 with 1 Axes>"
            ]
          },
          "metadata": {
            "tags": [],
            "needs_background": "light"
          }
        }
      ]
    },
    {
      "cell_type": "code",
      "metadata": {
        "id": "Wh4v_3zCRepL",
        "colab": {
          "base_uri": "https://localhost:8080/"
        },
        "outputId": "b162eddd-e91d-4043-b3f7-bcf2a86bdadb"
      },
      "source": [
        "state_size = env.observation_space\n",
        "print(\"state size is:\", state_size)\n",
        "a = env.action_space\n",
        "print(\"action size=\",a) \n",
        "state = env.reset()\n",
        "print(state)   "
      ],
      "execution_count": 13,
      "outputs": [
        {
          "output_type": "stream",
          "text": [
            "state size is: Box(-inf, inf, (8,), float32)\n",
            "action size= Box(-1.0, 1.0, (2,), float32)\n",
            "[ 0.0070425   1.4146249   0.7133082   0.16463538 -0.00815367 -0.161575\n",
            "  0.          0.        ]\n"
          ],
          "name": "stdout"
        }
      ]
    },
    {
      "cell_type": "markdown",
      "metadata": {
        "id": "yTfAdl7dSS-K"
      },
      "source": [
        "# Action Space\n",
        "            #is two floats [main engine, left-right engines].\n",
        "            # Main engine: -1..0 off, 0..+1 throttle from 50% to 100% power. Engine can't work with less than 50% power.\n",
        "            # Left-right:  -1.0..-0.5 fire left engine, +0.5..+1.0 fire right engine, -0.5..0.5 off\n",
        "            self.action_space = spaces.Box(-1, +1, (2,), dtype=np.float32)"
      ]
    },
    {
      "cell_type": "code",
      "metadata": {
        "id": "-g_F9GGEX-On"
      },
      "source": [
        "DF = 0.9 #discount_factor\n",
        "EPS_START = 0.9\n",
        "EPS_END = 0.05\n",
        "EPS_DECAY = 200\n",
        "max_iterations = 3000\n",
        "steps_done = 0\n",
        "TARGET_UPDATE = 10\n",
        "BATCH_SIZE = 50\n",
        "GAMMA = 0.999\n",
        "# torch.autograd.set_detect_anomaly(True)\n",
        "#mytestmodel.zero_grad()\n"
      ],
      "execution_count": 14,
      "outputs": []
    },
    {
      "cell_type": "code",
      "metadata": {
        "id": "BeuwA3RqX-On",
        "colab": {
          "base_uri": "https://localhost:8080/"
        },
        "outputId": "c7cb6954-f6eb-417f-a477-ba724cb1d284"
      },
      "source": [
        "policy_net =  model(layers).to(device)\n",
        "target_net =  model(layers).to(device)\n",
        "target_net.load_state_dict(policy_net.state_dict())\n",
        "target_net.eval()\n"
      ],
      "execution_count": 15,
      "outputs": [
        {
          "output_type": "execute_result",
          "data": {
            "text/plain": [
              "model(\n",
              "  (features): Sequential(\n",
              "    (0): Linear(in_features=8, out_features=16, bias=True)\n",
              "    (1): ReLU(inplace=True)\n",
              "    (2): Linear(in_features=16, out_features=16, bias=True)\n",
              "    (3): ReLU(inplace=True)\n",
              "    (4): Linear(in_features=16, out_features=9, bias=True)\n",
              "    (5): ReLU(inplace=True)\n",
              "  )\n",
              ")"
            ]
          },
          "metadata": {
            "tags": []
          },
          "execution_count": 15
        }
      ]
    },
    {
      "cell_type": "code",
      "metadata": {
        "id": "aOLFojNKX-On"
      },
      "source": [
        "optimizer = optim.SGD(policy_net.parameters(), lr=0.3 )#5e-6 RMSprop\n",
        "dtype = torch.float\n",
        "losses = []\n",
        "all_rewards = []\n"
      ],
      "execution_count": 16,
      "outputs": []
    },
    {
      "cell_type": "code",
      "metadata": {
        "id": "EQaFvJdvM4qX",
        "colab": {
          "base_uri": "https://localhost:8080/",
          "height": 1000
        },
        "outputId": "43983b4a-a292-4e61-9ae9-fed4e59fa535"
      },
      "source": [
        "losses = []\n",
        "all_rewards = []\n",
        "memory = ReplayMemory(10000)\n",
        "for a in range(1000):\n",
        "    print(\"Episode: \",a,\"\\n\",\"-\"*50)\n",
        "    env = gym.make('LunarLanderContinuous-v2')\n",
        "    env.reset()\n",
        "    env = wrap_env(env)\n",
        "    done = False\n",
        "    iter = 0\n",
        "#     print(done)\n",
        "    observation = state = env.reset()\n",
        "\n",
        "    action = 1\n",
        "    TotalReward = 0\n",
        "    TotalLoss=0\n",
        "    df = DF\n",
        "\n",
        "    while not done and iter < max_iterations :\n",
        "      iter +=1\n",
        "      \n",
        "    #   action = env.action_space.sample()\n",
        "      if  True:\n",
        "\n",
        "          sample = random.random()\n",
        "          eps_threshold = EPS_END + (EPS_START - EPS_END) * math.exp(-1. * steps_done / EPS_DECAY)\n",
        "          steps_done += 1\n",
        "          state_values = policy_net.forward(torch.from_numpy(observation))\n",
        "          if sample > eps_threshold:\n",
        "                # t.max(1) will return largest column value of each row.\n",
        "                # second column on max result is index of where max element was\n",
        "                # found, so we pick action with the larger expected reward.\n",
        "              real_action = state_values.argmax()\n",
        "\n",
        "          else:\n",
        "#               print(\"random sample\")\n",
        "              real_action = torch.tensor(random.randrange(actions.get_action_count()), device=device, dtype=torch.long)\n",
        "\n",
        "\n",
        "          action = actions.get_action(real_action.item())\n",
        "          observation, reward, done, _ = env.step(action)\n",
        "          with torch.no_grad():\n",
        "              next_values = target_net.forward(torch.from_numpy(observation))\n",
        "          if done and True:\n",
        "              new_reward = next_values.max()+0.1\n",
        "          else:\n",
        "            observation, new_reward, done, _ = env.step(action)\n",
        "    #       state_values[torch.isnan(state_values)] = 0\n",
        "    #       next_values[torch.isnan(next_values)] = 0\n",
        "          next_state = observation\n",
        "          next_val = next_values.max() if next_values.max()!=0 and next_values.max() is not None else -0.1\n",
        "\n",
        "          label = torch.tensor(reward + (df* new_reward), dtype=torch.float)\n",
        "          df *=df\n",
        "\n",
        "          print(iter,\"action is:\",actions.get_full_action(real_action.item()) ,\n",
        "                 \"reward: \",reward,\"full:\",label,\n",
        "                \"state_value:\",state_values,\n",
        "                \"max opt\",state_values.gather(-1,real_action))\n",
        "          memory.push(state, action, next_state, reward)\n",
        "          # continue\n",
        "          print(real_action.unsqueeze(0))\n",
        "          loss = F.smooth_l1_loss(state_values.gather(-1,real_action),label ) # Huber .unsqueeze(0)\n",
        "          optimizer.zero_grad()\n",
        "#           if loss != None:\n",
        "          loss.backward()\n",
        "          optimizer.step()\n",
        "      else:\n",
        "          transitions = memory.sample(BATCH_SIZE)\n",
        "          batch = Transition(*zip(*transitions))\n",
        "          non_final_mask = torch.tensor(tuple(map(lambda s: s is not None, batch.next_state)), device=device, dtype=torch.bool)\n",
        "          print(f\"iter {iter}\")\n",
        "          state_batch = batch.state\n",
        "          action_batch = batch.action\n",
        "          reward_batch = batch.reward\n",
        "          non_final_next_states = torch.tensor([s for s in batch.next_state if s is not None])\n",
        "          state_values =[]\n",
        "          with torch.no_grad():\n",
        "              for i in range(len(state_batch)):\n",
        "                  our_s = policy_net.forward(torch.from_numpy(state_batch[i])).tolist()\n",
        "                  state_values.append(our_s)\n",
        "          state_values = torch.as_tensor(state_values)\n",
        "          motor_controls = state_values.clone().detach().numpy()\n",
        "    #       state_values[torch.isnan(state_values)] = 0\n",
        "    #       next_values[torch.isnan(next_values)] = 0\n",
        "          next_val = next_values.max() if next_values.max()!=0 and next_values.max() is not None else -0.1\n",
        "          # state_values = torch.cat(state_values)\n",
        "          # observation, reward, done, _ = env.step(action_batch[0])\n",
        "          # state_values = policy_net.forward(torch.from_numpy(observation))\n",
        "          # print(\"action is:\",actions.get_full_action(state_values.argmax().item())[0] ,\"reward: \",reward)\n",
        "          # next_values = target_net.forward(torch.from_numpy(observation))\n",
        "          real_action = []\n",
        "          for i in range(len(state_values)):\n",
        "             real_action.append(actions.get_full_action(state_values[i].argmax().item())[0])\n",
        "          real_action = torch.as_tensor(real_action)\n",
        "          next_state_values = torch.zeros(BATCH_SIZE, device=device).float()\n",
        "          next_state_values[non_final_mask] = target_net(non_final_next_states).max(1)[0].detach()\n",
        "          expected_state_action_values = (next_state_values * GAMMA) + torch.tensor(reward_batch)\n",
        "          expected_state_action_values = expected_state_action_values.float()\n",
        "          print(f\"hedva { expected_state_action_values.unsqueeze(1)}\")\n",
        "          # print(f\"yosi  {state_values.gather(-1,real_action)}\")\n",
        "          loss = F.smooth_l1_loss(state_values, expected_state_action_values.unsqueeze(1).double()).float()\n",
        "          TotalLoss += loss.data.item()\n",
        "          TotalReward+= sum(reward_batch)\n",
        "          # Optimize the model\n",
        "          optimizer.zero_grad()\n",
        "          print(f\"loss {loss}\")\n",
        "          print(f\"loss.data {loss.data}\")\n",
        "          loss.requres_grad = True\n",
        "          loss.backward()\n",
        "          for param in policy_net.parameters():\n",
        "              param.grad.data.clamp_(-1, 1)\n",
        "          optimizer.step()\n",
        "          # if done and True:\n",
        "          #     new_reward = next_values.max()+0.1\n",
        "          # else:\n",
        "          #     observation, new_reward, done, _ = env.step(action)\n",
        "          # label = torch.tensor(reward + (df* new_reward), dtype=torch.float)\n",
        "      # loss = F.smooth_l1_loss(state_values[real_action],label ) # Huber .unsqueeze(0)\n",
        "\n",
        "          print (loss.data)\n",
        "      TotalLoss += loss.data.item()\n",
        "        \n",
        "\n",
        "\n",
        "\n",
        "      TotalReward+= reward\n",
        "      print(\"state is:\", observation)\n",
        "\n",
        "      #if you want to see results on real-time 'open' the following 4 lines\n",
        "      if iter % TARGET_UPDATE/2 == 0:\n",
        "          screen = env.render(mode='rgb_array')\n",
        "          plt.imshow(screen)\n",
        "          ipythondisplay.clear_output(wait=True)\n",
        "          ipythondisplay.display(plt.gcf())\n",
        "\n",
        "\n",
        "      if iter % TARGET_UPDATE == 0:\n",
        "            target_net.load_state_dict(policy_net.state_dict())\n",
        "            \n",
        "    print(TotalReward,iter,done)\n",
        "    all_rewards.append(TotalReward)\n",
        "    losses.append(TotalLoss/iter)\n",
        "    print(\"-\"*50)\n",
        "    if  a % TARGET_UPDATE*5 == 0:\n",
        "        ipythondisplay.clear_output(wait=True)\n",
        "        pickle.dump(policy_net, open(f\"model.pkl\", \"wb\"))\n",
        "        plot(a, all_rewards, losses)\n",
        "print(f\"all {all_rewards}\")\n",
        "print(f\"len {len(all_rewards)}\")\n",
        "avg = sum(all_rewards) / len(all_rewards)\n",
        "print(f\"avg = {avg}\")\n",
        "    "
      ],
      "execution_count": null,
      "outputs": [
        {
          "output_type": "display_data",
          "data": {
            "image/png": "[encoded data removed]",
            "text/plain": [
              "<Figure size 432x288 with 1 Axes>"
            ]
          },
          "metadata": {
            "tags": []
          }
        },
        {
          "output_type": "stream",
          "text": [
            "11 action is: [[0, 0], 'Main off, Left Right off'] reward:  -0.8239030345516767 full: tensor(-0.8239) state_value: tensor([0., 0., 0., 0., 0., 0., 0., 0., 0.], grad_fn=<ReluBackward1>) max opt tensor(0., grad_fn=<GatherBackward>)\n",
            "tensor([0])\n",
            "state is: [ 0.18241644  1.5124488   0.84112346  0.07383822 -0.14849696 -0.17196883\n",
            "  0.          0.        ]\n",
            "12 action is: [[1, 0], 'Main strong, Left Right off'] reward:  -1.0568618411405963 full: tensor(-1.0569) state_value: tensor([0., 0., 0., 0., 0., 0., 0., 0., 0.], grad_fn=<ReluBackward1>) max opt tensor(0., grad_fn=<GatherBackward>)\n",
            "tensor([6])\n",
            "state is: [ 0.19917555  1.5156429   0.8561648   0.06844845 -0.16595566 -0.16816236\n",
            "  0.          0.        ]\n",
            "13 action is: [[0, 0], 'Main off, Left Right off'] reward:  -2.576167566459117 full: tensor(-2.5762) state_value: tensor([0., 0., 0., 0., 0., 0., 0., 0., 0.], grad_fn=<ReluBackward1>) max opt tensor(0., grad_fn=<GatherBackward>)\n",
            "tensor([0])\n",
            "state is: [ 0.21640234  1.5189981   0.8710003   0.07380605 -0.18295589 -0.16840509\n",
            "  0.          0.        ]\n",
            "14 action is: [[0, 0], 'Main off, Left Right off'] reward:  -0.8884447903776049 full: tensor(-0.8884) state_value: tensor([0., 0., 0., 0., 0., 0., 0., 0., 0.], grad_fn=<ReluBackward1>) max opt tensor(0., grad_fn=<GatherBackward>)\n",
            "tensor([0])\n",
            "state is: [ 0.2336547   1.5205677   0.87099713  0.02046097 -0.1997963  -0.16840363\n",
            "  0.          0.        ]\n",
            "15 action is: [[0, 0], 'Main off, Left Right off'] reward:  -0.9421591786615977 full: tensor(-0.9422) state_value: tensor([0., 0., 0., 0., 0., 0., 0., 0., 0.], grad_fn=<ReluBackward1>) max opt tensor(0., grad_fn=<GatherBackward>)\n",
            "tensor([0])\n",
            "state is: [ 0.2509075   1.5197409   0.8709935  -0.03288406 -0.21663652 -0.16840217\n",
            "  0.          0.        ]\n",
            "16 action is: [[0.5, 1], 'Main slow, Right strong'] reward:  -2.9341971272765295 full: tensor(-2.9342) state_value: tensor([0., 0., 0., 0., 0., 0., 0., 0., 0.], grad_fn=<ReluBackward1>) max opt tensor(0., grad_fn=<GatherBackward>)\n",
            "tensor([5])\n",
            "state is: [ 2.6861334e-01  1.5194426e+00  9.0673560e-01  6.6310298e-05\n",
            " -2.3969641e-01 -2.5113896e-01  0.0000000e+00  0.0000000e+00]\n",
            "17 action is: [[0, 0], 'Main off, Left Right off'] reward:  -1.398126859428146 full: tensor(-1.3981) state_value: tensor([0., 0., 0., 0., 0., 0., 0., 0., 0.], grad_fn=<ReluBackward1>) max opt tensor(0., grad_fn=<GatherBackward>)\n",
            "tensor([0])\n",
            "state is: [ 0.2865015   1.5177397   0.90672606 -0.05329282 -0.2648099  -0.25113344\n",
            "  0.          0.        ]\n",
            "18 action is: [[0, 0], 'Main off, Left Right off'] reward:  -3.4648777864815656 full: tensor(-3.4649) state_value: tensor([0., 0., 0., 0., 0., 0., 0., 0., 0.], grad_fn=<ReluBackward1>) max opt tensor(0., grad_fn=<GatherBackward>)\n",
            "tensor([0])\n",
            "state is: [ 0.304879    1.5152749   0.9341963  -0.06424376 -0.28907287 -0.24178341\n",
            "  0.          0.        ]\n",
            "19 action is: [[1, 0], 'Main strong, Left Right off'] reward:  -3.303063598901235 full: tensor(-3.3031) state_value: tensor([0., 0., 0., 0., 0., 0., 0., 0., 0.], grad_fn=<ReluBackward1>) max opt tensor(0., grad_fn=<GatherBackward>)\n",
            "tensor([6])\n",
            "state is: [ 0.3239789   1.5146176   0.9817802  -0.00209414 -0.31387174 -0.24652612\n",
            "  0.          0.        ]\n",
            "20 action is: [[0, 0], 'Main off, Left Right off'] reward:  -2.20693913408162 full: tensor(-2.2069) state_value: tensor([0., 0., 0., 0., 0., 0., 0., 0., 0.], grad_fn=<ReluBackward1>) max opt tensor(0., grad_fn=<GatherBackward>)\n",
            "tensor([0])\n",
            "state is: [ 0.3436493   1.5143421   1.0032036  -0.01118448 -0.33877817 -0.2470711\n",
            "  0.          0.        ]\n"
          ],
          "name": "stdout"
        }
      ]
    },
    {
      "cell_type": "code",
      "metadata": {
        "id": "BzyI3vKZQiR6"
      },
      "source": [
        "env.close()\n",
        "show_video()"
      ],
      "execution_count": null,
      "outputs": []
    },
    {
      "cell_type": "code",
      "metadata": {
        "id": "rY_ve2aViqJa"
      },
      "source": [
        "print(iter)"
      ],
      "execution_count": null,
      "outputs": []
    },
    {
      "cell_type": "code",
      "metadata": {
        "id": "VQSL6GAC3Dw3"
      },
      "source": [
        "#Draw random samples from a normal (Gaussian) distribution.\n",
        "mu, sigma = 0, 0.05 # mean and standard deviation\n",
        "s = np.random.normal(mu, sigma, 1)\n",
        "print(s)"
      ],
      "execution_count": null,
      "outputs": []
    },
    {
      "cell_type": "code",
      "metadata": {
        "id": "A2N8kYsjX-Ow"
      },
      "source": [
        ""
      ],
      "execution_count": null,
      "outputs": []
    },
    {
      "cell_type": "code",
      "metadata": {
        "id": "9RngQ0ZUX-Ox"
      },
      "source": [
        ""
      ],
      "execution_count": null,
      "outputs": []
    },
    {
      "cell_type": "code",
      "metadata": {
        "id": "ScmN3t6LX-Ox"
      },
      "source": [
        ""
      ],
      "execution_count": null,
      "outputs": []
    }
  ]
}